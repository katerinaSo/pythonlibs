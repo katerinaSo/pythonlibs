{
  "nbformat": 4,
  "nbformat_minor": 0,
  "metadata": {
    "colab": {
      "name": "introPythonexecises.ipynb",
      "provenance": [],
      "authorship_tag": "ABX9TyNFg/6eki5ko1SWyoJLA7kV",
      "include_colab_link": true
    },
    "kernelspec": {
      "name": "python3",
      "display_name": "Python 3"
    },
    "language_info": {
      "name": "python"
    }
  },
  "cells": [
    {
      "cell_type": "markdown",
      "metadata": {
        "id": "view-in-github",
        "colab_type": "text"
      },
      "source": [
        "<a href=\"https://colab.research.google.com/github/katerinaSo/pythonlibs/blob/main/introPythonexecises.ipynb\" target=\"_parent\"><img src=\"https://colab.research.google.com/assets/colab-badge.svg\" alt=\"Open In Colab\"/></a>"
      ]
    },
    {
      "cell_type": "markdown",
      "metadata": {
        "id": "LahEwcKqoztF"
      },
      "source": [
        "**standard libraries in python☕**\n",
        "\n"
      ]
    },
    {
      "cell_type": "markdown",
      "metadata": {
        "id": "jiXt_d2YwiKK"
      },
      "source": [
        "<img src=\"https://upload.wikimedia.org/wikipedia/commons/thumb/c/c3/Python-logo-notext.svg/640px-Python-logo-notext.svg.png\" width=\"100\">"
      ]
    },
    {
      "cell_type": "code",
      "metadata": {
        "id": "lbpLJvw6m8l5",
        "colab": {
          "base_uri": "https://localhost:8080/"
        },
        "outputId": "0e22c99c-20f3-4232-99c5-805065968ef4"
      },
      "source": [
        "print('hello world')"
      ],
      "execution_count": 1,
      "outputs": [
        {
          "output_type": "stream",
          "name": "stdout",
          "text": [
            "hello world\n"
          ]
        }
      ]
    },
    {
      "cell_type": "code",
      "metadata": {
        "colab": {
          "base_uri": "https://localhost:8080/",
          "height": 35
        },
        "id": "UqwDLYtQoDX7",
        "outputId": "1082827c-2a42-466f-8c7b-cd796629474c"
      },
      "source": [
        "\"hello colab\""
      ],
      "execution_count": 2,
      "outputs": [
        {
          "output_type": "execute_result",
          "data": {
            "application/vnd.google.colaboratory.intrinsic+json": {
              "type": "string"
            },
            "text/plain": [
              "'hello colab'"
            ]
          },
          "metadata": {},
          "execution_count": 2
        }
      ]
    },
    {
      "cell_type": "code",
      "metadata": {
        "colab": {
          "base_uri": "https://localhost:8080/",
          "height": 35
        },
        "id": "DYFLKxxSoLsJ",
        "outputId": "c33c4915-cbfb-4d5f-e76b-f40656c3c886"
      },
      "source": [
        "import numpy as np\n",
        "np.__version__"
      ],
      "execution_count": 3,
      "outputs": [
        {
          "output_type": "execute_result",
          "data": {
            "application/vnd.google.colaboratory.intrinsic+json": {
              "type": "string"
            },
            "text/plain": [
              "'1.19.5'"
            ]
          },
          "metadata": {},
          "execution_count": 3
        }
      ]
    },
    {
      "cell_type": "code",
      "metadata": {
        "id": "cjvWBO3opfvM"
      },
      "source": [
        "np.random.rand?"
      ],
      "execution_count": 4,
      "outputs": []
    },
    {
      "cell_type": "code",
      "metadata": {
        "id": "NqBa57cnppKI",
        "outputId": "7e46306f-e2f5-40df-d104-6dbb85d9989c",
        "colab": {
          "base_uri": "https://localhost:8080/",
          "height": 300
        }
      },
      "source": [
        "import imageai"
      ],
      "execution_count": 5,
      "outputs": [
        {
          "output_type": "error",
          "ename": "ModuleNotFoundError",
          "evalue": "ignored",
          "traceback": [
            "\u001b[0;31m---------------------------------------------------------------------------\u001b[0m",
            "\u001b[0;31mModuleNotFoundError\u001b[0m                       Traceback (most recent call last)",
            "\u001b[0;32m<ipython-input-5-2cf5b4bddf56>\u001b[0m in \u001b[0;36m<module>\u001b[0;34m()\u001b[0m\n\u001b[0;32m----> 1\u001b[0;31m \u001b[0;32mimport\u001b[0m \u001b[0mimageai\u001b[0m\u001b[0;34m\u001b[0m\u001b[0;34m\u001b[0m\u001b[0m\n\u001b[0m",
            "\u001b[0;31mModuleNotFoundError\u001b[0m: No module named 'imageai'",
            "",
            "\u001b[0;31m---------------------------------------------------------------------------\u001b[0;32m\nNOTE: If your import is failing due to a missing package, you can\nmanually install dependencies using either !pip or !apt.\n\nTo view examples of installing some common dependencies, click the\n\"Open Examples\" button below.\n\u001b[0;31m---------------------------------------------------------------------------\u001b[0m\n"
          ],
          "errorDetails": {
            "actions": [
              {
                "action": "open_url",
                "actionText": "Open Examples",
                "url": "/notebooks/snippets/importing_libraries.ipynb"
              }
            ]
          }
        }
      ]
    },
    {
      "cell_type": "code",
      "metadata": {
        "id": "woZPl9oapv5J",
        "outputId": "d66d1ffa-f250-4114-c5ef-303e873fd0b4",
        "colab": {
          "base_uri": "https://localhost:8080/",
          "height": 1000
        }
      },
      "source": [
        "!pip install imageai"
      ],
      "execution_count": 6,
      "outputs": [
        {
          "output_type": "stream",
          "name": "stdout",
          "text": [
            "Collecting imageai\n",
            "  Downloading imageai-2.1.6-py3-none-any.whl (160 kB)\n",
            "\u001b[?25l\r\u001b[K     |██                              | 10 kB 28.0 MB/s eta 0:00:01\r\u001b[K     |████                            | 20 kB 30.4 MB/s eta 0:00:01\r\u001b[K     |██████                          | 30 kB 20.7 MB/s eta 0:00:01\r\u001b[K     |████████▏                       | 40 kB 16.7 MB/s eta 0:00:01\r\u001b[K     |██████████▏                     | 51 kB 5.7 MB/s eta 0:00:01\r\u001b[K     |████████████▏                   | 61 kB 6.2 MB/s eta 0:00:01\r\u001b[K     |██████████████▎                 | 71 kB 5.6 MB/s eta 0:00:01\r\u001b[K     |████████████████▎               | 81 kB 6.3 MB/s eta 0:00:01\r\u001b[K     |██████████████████▎             | 92 kB 6.2 MB/s eta 0:00:01\r\u001b[K     |████████████████████▍           | 102 kB 5.4 MB/s eta 0:00:01\r\u001b[K     |██████████████████████▍         | 112 kB 5.4 MB/s eta 0:00:01\r\u001b[K     |████████████████████████▍       | 122 kB 5.4 MB/s eta 0:00:01\r\u001b[K     |██████████████████████████▌     | 133 kB 5.4 MB/s eta 0:00:01\r\u001b[K     |████████████████████████████▌   | 143 kB 5.4 MB/s eta 0:00:01\r\u001b[K     |██████████████████████████████▌ | 153 kB 5.4 MB/s eta 0:00:01\r\u001b[K     |████████████████████████████████| 160 kB 5.4 MB/s \n",
            "\u001b[?25hRequirement already satisfied: scipy==1.4.1 in /usr/local/lib/python3.7/dist-packages (from imageai) (1.4.1)\n",
            "Collecting keras-resnet==0.2.0\n",
            "  Downloading keras-resnet-0.2.0.tar.gz (9.3 kB)\n",
            "Collecting keras==2.4.3\n",
            "  Downloading Keras-2.4.3-py2.py3-none-any.whl (36 kB)\n",
            "Collecting pillow==7.0.0\n",
            "  Downloading Pillow-7.0.0-cp37-cp37m-manylinux1_x86_64.whl (2.1 MB)\n",
            "\u001b[K     |████████████████████████████████| 2.1 MB 51.4 MB/s \n",
            "\u001b[?25hCollecting h5py==2.10.0\n",
            "  Downloading h5py-2.10.0-cp37-cp37m-manylinux1_x86_64.whl (2.9 MB)\n",
            "\u001b[K     |████████████████████████████████| 2.9 MB 44.3 MB/s \n",
            "\u001b[?25hRequirement already satisfied: opencv-python in /usr/local/lib/python3.7/dist-packages (from imageai) (4.1.2.30)\n",
            "Collecting matplotlib==3.3.2\n",
            "  Downloading matplotlib-3.3.2-cp37-cp37m-manylinux1_x86_64.whl (11.6 MB)\n",
            "\u001b[K     |████████████████████████████████| 11.6 MB 12.8 MB/s \n",
            "\u001b[?25hCollecting numpy==1.19.3\n",
            "  Downloading numpy-1.19.3-cp37-cp37m-manylinux2010_x86_64.whl (14.9 MB)\n",
            "\u001b[K     |████████████████████████████████| 14.9 MB 106 kB/s \n",
            "\u001b[?25hRequirement already satisfied: six in /usr/local/lib/python3.7/dist-packages (from h5py==2.10.0->imageai) (1.15.0)\n",
            "Requirement already satisfied: pyyaml in /usr/local/lib/python3.7/dist-packages (from keras==2.4.3->imageai) (3.13)\n",
            "Requirement already satisfied: kiwisolver>=1.0.1 in /usr/local/lib/python3.7/dist-packages (from matplotlib==3.3.2->imageai) (1.3.2)\n",
            "Requirement already satisfied: pyparsing!=2.0.4,!=2.1.2,!=2.1.6,>=2.0.3 in /usr/local/lib/python3.7/dist-packages (from matplotlib==3.3.2->imageai) (2.4.7)\n",
            "Requirement already satisfied: certifi>=2020.06.20 in /usr/local/lib/python3.7/dist-packages (from matplotlib==3.3.2->imageai) (2021.10.8)\n",
            "Requirement already satisfied: cycler>=0.10 in /usr/local/lib/python3.7/dist-packages (from matplotlib==3.3.2->imageai) (0.11.0)\n",
            "Requirement already satisfied: python-dateutil>=2.1 in /usr/local/lib/python3.7/dist-packages (from matplotlib==3.3.2->imageai) (2.8.2)\n",
            "Building wheels for collected packages: keras-resnet\n",
            "  Building wheel for keras-resnet (setup.py) ... \u001b[?25l\u001b[?25hdone\n",
            "  Created wheel for keras-resnet: filename=keras_resnet-0.2.0-py2.py3-none-any.whl size=20486 sha256=3eb98a5a767bbafb1be6af3cd9e6c981b25790da17201999af8448d774f5d5db\n",
            "  Stored in directory: /root/.cache/pip/wheels/bd/ef/06/5d65f696360436c3a423020c4b7fd8c558c09ef264a0e6c575\n",
            "Successfully built keras-resnet\n",
            "Installing collected packages: numpy, h5py, pillow, keras, matplotlib, keras-resnet, imageai\n",
            "  Attempting uninstall: numpy\n",
            "    Found existing installation: numpy 1.19.5\n",
            "    Uninstalling numpy-1.19.5:\n",
            "      Successfully uninstalled numpy-1.19.5\n",
            "  Attempting uninstall: h5py\n",
            "    Found existing installation: h5py 3.1.0\n",
            "    Uninstalling h5py-3.1.0:\n",
            "      Successfully uninstalled h5py-3.1.0\n",
            "  Attempting uninstall: pillow\n",
            "    Found existing installation: Pillow 7.1.2\n",
            "    Uninstalling Pillow-7.1.2:\n",
            "      Successfully uninstalled Pillow-7.1.2\n",
            "  Attempting uninstall: keras\n",
            "    Found existing installation: keras 2.7.0\n",
            "    Uninstalling keras-2.7.0:\n",
            "      Successfully uninstalled keras-2.7.0\n",
            "  Attempting uninstall: matplotlib\n",
            "    Found existing installation: matplotlib 3.2.2\n",
            "    Uninstalling matplotlib-3.2.2:\n",
            "      Successfully uninstalled matplotlib-3.2.2\n",
            "\u001b[31mERROR: pip's dependency resolver does not currently take into account all the packages that are installed. This behaviour is the source of the following dependency conflicts.\n",
            "tensorflow 2.7.0 requires keras<2.8,>=2.7.0rc0, but you have keras 2.4.3 which is incompatible.\n",
            "datascience 0.10.6 requires folium==0.2.1, but you have folium 0.8.3 which is incompatible.\n",
            "bokeh 2.3.3 requires pillow>=7.1.0, but you have pillow 7.0.0 which is incompatible.\n",
            "albumentations 0.1.12 requires imgaug<0.2.7,>=0.2.5, but you have imgaug 0.2.9 which is incompatible.\u001b[0m\n",
            "Successfully installed h5py-2.10.0 imageai-2.1.6 keras-2.4.3 keras-resnet-0.2.0 matplotlib-3.3.2 numpy-1.19.3 pillow-7.0.0\n"
          ]
        },
        {
          "output_type": "display_data",
          "data": {
            "application/vnd.colab-display-data+json": {
              "pip_warning": {
                "packages": [
                  "PIL",
                  "matplotlib",
                  "mpl_toolkits",
                  "numpy"
                ]
              }
            }
          },
          "metadata": {}
        }
      ]
    },
    {
      "cell_type": "code",
      "metadata": {
        "id": "9xgZlN6gp0L5"
      },
      "source": [
        "import imageai"
      ],
      "execution_count": 1,
      "outputs": []
    },
    {
      "cell_type": "code",
      "metadata": {
        "id": "wwSiNq8aqY1Z"
      },
      "source": [
        ""
      ],
      "execution_count": 3,
      "outputs": []
    },
    {
      "cell_type": "markdown",
      "metadata": {
        "id": "JrbCNGObslXF"
      },
      "source": [
        "[workout page](https://python-two-workout.netlify.app/ )   "
      ]
    },
    {
      "cell_type": "code",
      "metadata": {
        "id": "Uh9JXS4cqqYW",
        "outputId": "4c9b5d7a-2c3a-4d20-b887-6028c12cac7c",
        "colab": {
          "base_uri": "https://localhost:8080/",
          "height": 35
        }
      },
      "source": [
        "pwd"
      ],
      "execution_count": 4,
      "outputs": [
        {
          "output_type": "execute_result",
          "data": {
            "application/vnd.google.colaboratory.intrinsic+json": {
              "type": "string"
            },
            "text/plain": [
              "'/content'"
            ]
          },
          "metadata": {},
          "execution_count": 4
        }
      ]
    },
    {
      "cell_type": "code",
      "metadata": {
        "id": "qsG_GtajyaVM"
      },
      "source": [
        "import sys"
      ],
      "execution_count": 5,
      "outputs": []
    },
    {
      "cell_type": "code",
      "metadata": {
        "id": "d4_zGocpzRZR",
        "outputId": "06b763a4-16c4-420e-f2ef-8982d6048d28",
        "colab": {
          "base_uri": "https://localhost:8080/",
          "height": 35
        }
      },
      "source": [
        "sys.version.split(\" \")[0]"
      ],
      "execution_count": 10,
      "outputs": [
        {
          "output_type": "execute_result",
          "data": {
            "application/vnd.google.colaboratory.intrinsic+json": {
              "type": "string"
            },
            "text/plain": [
              "'3.7.12'"
            ]
          },
          "metadata": {},
          "execution_count": 10
        }
      ]
    },
    {
      "cell_type": "code",
      "metadata": {
        "id": "8k6kVnlxzTL5"
      },
      "source": [
        "import datetime"
      ],
      "execution_count": 11,
      "outputs": []
    },
    {
      "cell_type": "code",
      "metadata": {
        "id": "yPzq1j3bzxwC",
        "outputId": "ce3c54cd-de47-426f-ec10-fbabec0df04f",
        "colab": {
          "base_uri": "https://localhost:8080/"
        }
      },
      "source": [
        "d1=datetime.date(2021,1,1)\n",
        "print(d1)"
      ],
      "execution_count": 18,
      "outputs": [
        {
          "output_type": "stream",
          "name": "stdout",
          "text": [
            "2021-01-01\n"
          ]
        }
      ]
    },
    {
      "cell_type": "code",
      "metadata": {
        "id": "JHxBVgnTz30K",
        "outputId": "730a7b72-d5d5-428a-e103-4c711624ab85",
        "colab": {
          "base_uri": "https://localhost:8080/"
        }
      },
      "source": [
        "t1=datetime.time(12,0,0)\n",
        "print(t1)"
      ],
      "execution_count": 22,
      "outputs": [
        {
          "output_type": "stream",
          "name": "stdout",
          "text": [
            "12:00:00\n"
          ]
        }
      ]
    },
    {
      "cell_type": "code",
      "metadata": {
        "id": "ewENWQZZ0M-i",
        "outputId": "8e01fa83-af7e-42a9-9866-9003d052582c",
        "colab": {
          "base_uri": "https://localhost:8080/"
        }
      },
      "source": [
        "dt1 = datetime.datetime(2020, 7, 20, 11, 30, 0)\n",
        "print(dt1)"
      ],
      "execution_count": 23,
      "outputs": [
        {
          "output_type": "stream",
          "name": "stdout",
          "text": [
            "2020-07-20 11:30:00\n"
          ]
        }
      ]
    },
    {
      "cell_type": "code",
      "metadata": {
        "id": "YrgORyzV0cQq",
        "outputId": "e905db60-ae7d-4d4d-a7ae-8b673eb5e28c",
        "colab": {
          "base_uri": "https://localhost:8080/"
        }
      },
      "source": [
        "d1 = datetime.date(2020, 7, 21)\n",
        "d2 = datetime.date(2020, 12, 31)\n",
        "diff = (d2 - d1).days\n",
        "print(f'Number of days: {diff}')"
      ],
      "execution_count": 24,
      "outputs": [
        {
          "output_type": "stream",
          "name": "stdout",
          "text": [
            "Number of days: 163\n"
          ]
        }
      ]
    },
    {
      "cell_type": "code",
      "metadata": {
        "id": "qoXmDd370h35",
        "outputId": "76d5780c-c6ec-4e93-88b2-dbd45424168e",
        "colab": {
          "base_uri": "https://localhost:8080/"
        }
      },
      "source": [
        "dt1 = datetime.datetime(2020, 7, 20, 11, 30, 0)\n",
        "dt2 = datetime.datetime(2021, 2, 20, 10, 25, 0)\n",
        "print(dt2 - dt1)"
      ],
      "execution_count": 25,
      "outputs": [
        {
          "output_type": "stream",
          "name": "stdout",
          "text": [
            "214 days, 22:55:00\n"
          ]
        }
      ]
    },
    {
      "cell_type": "code",
      "metadata": {
        "id": "v00n_-gk0oPi"
      },
      "source": [
        "from datetime import datetime"
      ],
      "execution_count": 27,
      "outputs": []
    },
    {
      "cell_type": "code",
      "metadata": {
        "id": "rEZwbAPI04Cz"
      },
      "source": [
        "dt1 = datetime(2021, 4, 20, 11, 30, 00)"
      ],
      "execution_count": 30,
      "outputs": []
    },
    {
      "cell_type": "code",
      "metadata": {
        "id": "tdnbzKK81FLp",
        "outputId": "ed5b2d9d-6cce-4161-9fa8-ecefe951a83d",
        "colab": {
          "base_uri": "https://localhost:8080/"
        }
      },
      "source": [
        "print(dt1.strftime('%Y-%m-%d'))\n",
        "print(dt1.strftime('%d-%m-%Y'))\n",
        "print(dt1.strftime('%m-%Y'))\n",
        "print(dt1.strftime('%B-%Y'))\n",
        "print(dt1.strftime('%d %B, %Y'))\n",
        "print(dt1.strftime('%Y-%m-%d %H:%M:%S'))\n",
        "print(dt1.strftime('%m/%d/%y %H:%M:%S'))\n",
        "print(dt1.strftime('%d(%a) %B %Y'))"
      ],
      "execution_count": 31,
      "outputs": [
        {
          "output_type": "stream",
          "name": "stdout",
          "text": [
            "2021-04-20\n",
            "20-04-2021\n",
            "04-2021\n",
            "April-2021\n",
            "20 April, 2021\n",
            "2021-04-20 11:30:00\n",
            "04/20/21 11:30:00\n",
            "20(Tue) April 2021\n"
          ]
        }
      ]
    },
    {
      "cell_type": "code",
      "metadata": {
        "id": "KqrI0LnC1JKZ"
      },
      "source": [
        "date_str_1 = '3 March 1995'\n",
        "date_str_2 = '3/9/1995'\n",
        "date_str_3 = '21-07-2021'"
      ],
      "execution_count": 32,
      "outputs": []
    },
    {
      "cell_type": "code",
      "metadata": {
        "id": "SRhxaE4v1Plx",
        "outputId": "e7a99169-8dae-4a9b-ab0a-f227c7060772",
        "colab": {
          "base_uri": "https://localhost:8080/"
        }
      },
      "source": [
        "dt1 = datetime.strptime(date_str_1, '%d %B %Y')\n",
        "dt2 = datetime.strptime(date_str_2, '%d/%m/%Y')\n",
        "dt3 = datetime.strptime(date_str_3, '%d-%m-%Y')\n",
        " \n",
        "print(dt1)\n",
        "print(dt2)\n",
        "print(dt3)"
      ],
      "execution_count": 33,
      "outputs": [
        {
          "output_type": "stream",
          "name": "stdout",
          "text": [
            "1995-03-03 00:00:00\n",
            "1995-09-03 00:00:00\n",
            "2021-07-21 00:00:00\n"
          ]
        }
      ]
    },
    {
      "cell_type": "code",
      "metadata": {
        "id": "rEAGGQ9t1hu-"
      },
      "source": [
        "import datetime"
      ],
      "execution_count": 37,
      "outputs": []
    },
    {
      "cell_type": "code",
      "metadata": {
        "id": "-ulL2NQI1Sia",
        "outputId": "2e8f4e16-3644-412f-b962-d33b7d6c5c7c",
        "colab": {
          "base_uri": "https://localhost:8080/"
        }
      },
      "source": [
        "today = datetime.date.today()\n",
        "end_of_year = datetime.date(today.year, 12, 31)\n",
        "diff = (end_of_year - today).days\n",
        "print(f'Number of days until the end of the year: {diff}')"
      ],
      "execution_count": 39,
      "outputs": [
        {
          "output_type": "stream",
          "name": "stdout",
          "text": [
            "Number of days until the end of the year: 49\n"
          ]
        }
      ]
    },
    {
      "cell_type": "code",
      "metadata": {
        "id": "30hI6vu41axC",
        "outputId": "e542c92a-769e-4df0-8edd-0b3b2f458653",
        "colab": {
          "base_uri": "https://localhost:8080/"
        }
      },
      "source": [
        "now = datetime.datetime.now()\n",
        "end_of_year = datetime.datetime(now.year + 1, 1, 1)\n",
        "diff = end_of_year - now\n",
        "print(f'Until the end of the year: {diff}')"
      ],
      "execution_count": 40,
      "outputs": [
        {
          "output_type": "stream",
          "name": "stdout",
          "text": [
            "Until the end of the year: 49 days, 8:10:16.811217\n"
          ]
        }
      ]
    },
    {
      "cell_type": "code",
      "metadata": {
        "id": "HDbHinAu1x_i",
        "outputId": "6a94e92c-6c4b-4d47-af07-85e24be37875",
        "colab": {
          "base_uri": "https://localhost:8080/"
        }
      },
      "source": [
        "dt = datetime.datetime.now()\n",
        " \n",
        "print(dt + datetime.timedelta(days=7))\n",
        "print(dt + datetime.timedelta(days=30))\n",
        "print(dt + datetime.timedelta(hours=30))\n",
        "print(dt + datetime.timedelta(minutes=15))"
      ],
      "execution_count": 42,
      "outputs": [
        {
          "output_type": "stream",
          "name": "stdout",
          "text": [
            "2021-11-19 15:51:19.158549\n",
            "2021-12-12 15:51:19.158549\n",
            "2021-11-13 21:51:19.158549\n",
            "2021-11-12 16:06:19.158549\n"
          ]
        }
      ]
    },
    {
      "cell_type": "code",
      "metadata": {
        "id": "xoB7nRHo1-Th",
        "outputId": "01292f67-6379-4754-a0e4-b299b893fe3c",
        "colab": {
          "base_uri": "https://localhost:8080/"
        }
      },
      "source": [
        "dt = datetime.datetime(2020, 1, 1)\n",
        "delta = datetime.timedelta(hours=8)\n",
        " \n",
        "dates = [dt + i * delta for i in range(12)]\n",
        " \n",
        "for date in dates:\n",
        "    print(date)"
      ],
      "execution_count": 43,
      "outputs": [
        {
          "output_type": "stream",
          "name": "stdout",
          "text": [
            "2020-01-01 00:00:00\n",
            "2020-01-01 08:00:00\n",
            "2020-01-01 16:00:00\n",
            "2020-01-02 00:00:00\n",
            "2020-01-02 08:00:00\n",
            "2020-01-02 16:00:00\n",
            "2020-01-03 00:00:00\n",
            "2020-01-03 08:00:00\n",
            "2020-01-03 16:00:00\n",
            "2020-01-04 00:00:00\n",
            "2020-01-04 08:00:00\n",
            "2020-01-04 16:00:00\n"
          ]
        }
      ]
    },
    {
      "cell_type": "markdown",
      "metadata": {
        "id": "wQLmF4uq2lqT"
      },
      "source": [
        "USD 1000 with annual interest rate 4% daily compound capitalization of interest. Investment from 2021-07-01 to 2021-12-31. ( assume the year 365 days)"
      ]
    },
    {
      "cell_type": "code",
      "metadata": {
        "id": "rsKrLw6Z26_a",
        "outputId": "0b6515ec-5b94-437b-9359-831dc216c27f",
        "colab": {
          "base_uri": "https://localhost:8080/"
        }
      },
      "source": [
        "rate = 0.04\n",
        "pv = 1000\n",
        "daily_rate = rate / 365.0\n",
        " \n",
        "d1 = datetime.date(2021, 7, 1)\n",
        "d2 = datetime.date(2021, 12, 31)\n",
        "duration = d2 - d1\n",
        " \n",
        "fv = pv * (1 + daily_rate) ** duration.days\n",
        "print(f'Future value: $ {fv:.2f}')"
      ],
      "execution_count": 44,
      "outputs": [
        {
          "output_type": "stream",
          "name": "stdout",
          "text": [
            "Future value: $ 1020.26\n"
          ]
        }
      ]
    },
    {
      "cell_type": "markdown",
      "metadata": {
        "id": "K6LV1VNh3GRl"
      },
      "source": [
        "**Module os**"
      ]
    },
    {
      "cell_type": "markdown",
      "metadata": {
        "id": "MWaxvg0a3Qub"
      },
      "source": [
        "[docs](https://docs.python.org/3.8/library/os)"
      ]
    },
    {
      "cell_type": "code",
      "metadata": {
        "id": "HD4rxkIR3fux"
      },
      "source": [
        "import os"
      ],
      "execution_count": 46,
      "outputs": []
    },
    {
      "cell_type": "code",
      "metadata": {
        "id": "5MYXYLc23Klx",
        "outputId": "aabd4edc-543a-42af-f15c-5c78edf033cc",
        "colab": {
          "base_uri": "https://localhost:8080/"
        }
      },
      "source": [
        "print(os.getcwd())"
      ],
      "execution_count": 47,
      "outputs": [
        {
          "output_type": "stream",
          "name": "stdout",
          "text": [
            "/content\n"
          ]
        }
      ]
    },
    {
      "cell_type": "code",
      "metadata": {
        "id": "D_PNy6F23dcC",
        "outputId": "13c02aa9-abdf-4f16-c9b1-7570a1e8ab93",
        "colab": {
          "base_uri": "https://localhost:8080/"
        }
      },
      "source": [
        "print(os.listdir())"
      ],
      "execution_count": 48,
      "outputs": [
        {
          "output_type": "stream",
          "name": "stdout",
          "text": [
            "['.config', 'sample_data']\n"
          ]
        }
      ]
    },
    {
      "cell_type": "code",
      "metadata": {
        "id": "IP5H_2O33n5C",
        "outputId": "e4071974-52e5-4669-c32b-7b4ca0490dcf",
        "colab": {
          "base_uri": "https://localhost:8080/"
        }
      },
      "source": [
        "names = sorted([name for name in os.listdir() if not name.startswith('.')])\n",
        "print(names)"
      ],
      "execution_count": 52,
      "outputs": [
        {
          "output_type": "stream",
          "name": "stdout",
          "text": [
            "['sample_data']\n"
          ]
        }
      ]
    },
    {
      "cell_type": "code",
      "metadata": {
        "id": "rVLuDYbO3zbK",
        "outputId": "7ce7035e-b5e6-44ed-fb9a-9ee995b6653c",
        "colab": {
          "base_uri": "https://localhost:8080/"
        }
      },
      "source": [
        "fnames = sorted([name for name in os.listdir() if name.endswith('.py')])\n",
        "print(fnames)"
      ],
      "execution_count": 53,
      "outputs": [
        {
          "output_type": "stream",
          "name": "stdout",
          "text": [
            "[]\n"
          ]
        }
      ]
    },
    {
      "cell_type": "code",
      "metadata": {
        "id": "EVW4Q1s34Jjb",
        "outputId": "056fc603-10dc-43c0-f3b4-956d15c136d7",
        "colab": {
          "base_uri": "https://localhost:8080/"
        }
      },
      "source": [
        "help(os.mkdir)"
      ],
      "execution_count": 54,
      "outputs": [
        {
          "output_type": "stream",
          "name": "stdout",
          "text": [
            "Help on built-in function mkdir in module posix:\n",
            "\n",
            "mkdir(path, mode=511, *, dir_fd=None)\n",
            "    Create a directory.\n",
            "    \n",
            "    If dir_fd is not None, it should be a file descriptor open to a directory,\n",
            "      and path should be relative; path will then be relative to that directory.\n",
            "    dir_fd may not be implemented on your platform.\n",
            "      If it is unavailable, using it will raise a NotImplementedError.\n",
            "    \n",
            "    The mode argument is ignored on Windows.\n",
            "\n"
          ]
        }
      ]
    },
    {
      "cell_type": "code",
      "metadata": {
        "id": "skiIKy_h4RQi",
        "outputId": "e622cdf0-5854-4741-ee0b-a694d3e9e199",
        "colab": {
          "base_uri": "https://localhost:8080/"
        }
      },
      "source": [
        "os.mkdir('images')\n",
        "os.chdir('images')\n",
        "print(os.getcwd())"
      ],
      "execution_count": 55,
      "outputs": [
        {
          "output_type": "stream",
          "name": "stdout",
          "text": [
            "/content/images\n"
          ]
        }
      ]
    },
    {
      "cell_type": "code",
      "metadata": {
        "id": "6Npf3CLJ4Xtr",
        "outputId": "4cc7dd0d-b70b-4baf-f46b-0083932e0cc8",
        "colab": {
          "base_uri": "https://localhost:8080/"
        }
      },
      "source": [
        "os.mkdir('courses')\n",
        " \n",
        "dirnames = [f'{str(i).zfill(2)}_course' for i in range(1, 3)]\n",
        "for dirname in dirnames:\n",
        "    path = os.path.join('courses', dirname)\n",
        "    os.mkdir(path)\n",
        " \n",
        "print(sorted(os.listdir('courses')))"
      ],
      "execution_count": 56,
      "outputs": [
        {
          "output_type": "stream",
          "name": "stdout",
          "text": [
            "['01_course', '02_course']\n"
          ]
        }
      ]
    },
    {
      "cell_type": "code",
      "metadata": {
        "id": "7M2E7DT25WRE",
        "outputId": "e03b21a3-1f83-4424-ae91-d9b4818aba9c",
        "colab": {
          "base_uri": "https://localhost:8080/"
        }
      },
      "source": [
        "base_dir = 'images'\n",
        "png_dir = os.path.join(base_dir, 'images_png')\n",
        "jpg_dir = os.path.join(base_dir, 'images_jpg')\n",
        " \n",
        "if not os.path.exists(base_dir):\n",
        "    os.mkdir(base_dir)\n",
        " \n",
        "if not os.path.exists(png_dir):\n",
        "    os.mkdir(png_dir)\n",
        " \n",
        "if not os.path.exists(jpg_dir):\n",
        "    os.mkdir(jpg_dir)\n",
        " \n",
        "for root, dirs, files in os.walk(base_dir):\n",
        "    print(root)"
      ],
      "execution_count": 57,
      "outputs": [
        {
          "output_type": "stream",
          "name": "stdout",
          "text": [
            "images\n",
            "images/images_jpg\n",
            "images/images_png\n"
          ]
        }
      ]
    },
    {
      "cell_type": "code",
      "metadata": {
        "id": "QYl0ywCk5rZy"
      },
      "source": [
        "import random"
      ],
      "execution_count": 58,
      "outputs": []
    },
    {
      "cell_type": "code",
      "metadata": {
        "id": "P8yfzzf46ExD",
        "outputId": "e7811172-c788-4957-c05c-af4195c0ee06",
        "colab": {
          "base_uri": "https://localhost:8080/"
        }
      },
      "source": [
        "random.seed(30)\n",
        "images = [f\"{str(i).zfill(3)}_image.{random.choice(['png', 'jpg'])}\" for i in range(1, 6)]\n",
        " \n",
        "base_dir = 'images'\n",
        " \n",
        "if not os.path.exists(base_dir):\n",
        "    os.mkdir(base_dir)\n",
        " \n",
        "png_dir = os.path.join(base_dir, 'images_png')\n",
        "jpg_dir = os.path.join(base_dir, 'images_jpg')\n",
        " \n",
        "if not os.path.exists(png_dir):\n",
        "    os.mkdir(png_dir)\n",
        " \n",
        "if not os.path.exists(jpg_dir):\n",
        "    os.mkdir(jpg_dir)\n",
        " \n",
        "for image in images:\n",
        "    if image.endswith('.png'):\n",
        "        open(os.path.join(png_dir, image), 'w').close()\n",
        "    elif image.endswith('.jpg'):\n",
        "        open(os.path.join(jpg_dir, image), 'w').close()\n",
        " \n",
        "for root, dirs, files in os.walk(base_dir):\n",
        "    print(root)\n",
        "    for file in sorted(files):\n",
        "        print(f'\\t{file}')"
      ],
      "execution_count": 59,
      "outputs": [
        {
          "output_type": "stream",
          "name": "stdout",
          "text": [
            "images\n",
            "images/images_jpg\n",
            "\t001_image.jpg\n",
            "\t004_image.jpg\n",
            "images/images_png\n",
            "\t002_image.png\n",
            "\t003_image.png\n",
            "\t005_image.png\n"
          ]
        }
      ]
    },
    {
      "cell_type": "code",
      "metadata": {
        "id": "mWvetmqT6ViL"
      },
      "source": [
        "import sys"
      ],
      "execution_count": 60,
      "outputs": []
    },
    {
      "cell_type": "code",
      "metadata": {
        "id": "QE5e7a4H68g7",
        "outputId": "68d55882-1dce-4afb-af1f-c4cdc93038b6",
        "colab": {
          "base_uri": "https://localhost:8080/"
        }
      },
      "source": [
        "print(sys.executable)"
      ],
      "execution_count": 61,
      "outputs": [
        {
          "output_type": "stream",
          "name": "stdout",
          "text": [
            "/usr/bin/python3\n"
          ]
        }
      ]
    },
    {
      "cell_type": "code",
      "metadata": {
        "id": "nciOaul37C8M",
        "outputId": "94f7bd3d-f713-4254-a45f-4ec4c18405ca",
        "colab": {
          "base_uri": "https://localhost:8080/"
        }
      },
      "source": [
        "print(sys.path)"
      ],
      "execution_count": 63,
      "outputs": [
        {
          "output_type": "stream",
          "name": "stdout",
          "text": [
            "['', '/content', '/env/python', '/usr/lib/python37.zip', '/usr/lib/python3.7', '/usr/lib/python3.7/lib-dynload', '/usr/local/lib/python3.7/dist-packages', '/usr/lib/python3/dist-packages', '/usr/local/lib/python3.7/dist-packages/IPython/extensions', '/root/.ipython']\n"
          ]
        }
      ]
    },
    {
      "cell_type": "code",
      "metadata": {
        "id": "Z0NY2X7L7J86",
        "outputId": "0949bd84-6715-41f4-99c0-843d54d474ae",
        "colab": {
          "base_uri": "https://localhost:8080/"
        }
      },
      "source": [
        "for arg in sys.argv[1:]:\n",
        "    print(arg)"
      ],
      "execution_count": 64,
      "outputs": [
        {
          "output_type": "stream",
          "name": "stdout",
          "text": [
            "-f\n",
            "/root/.local/share/jupyter/runtime/kernel-0920b9be-0079-4c53-8b20-3875e3a6e7bd.json\n"
          ]
        }
      ]
    },
    {
      "cell_type": "code",
      "metadata": {
        "id": "xssdGo7D7XS8"
      },
      "source": [
        "import copy"
      ],
      "execution_count": 65,
      "outputs": []
    },
    {
      "cell_type": "code",
      "metadata": {
        "id": "l8koYO117skb"
      },
      "source": [
        "# copy.copy()  copy.deepcopy()"
      ],
      "execution_count": 66,
      "outputs": []
    },
    {
      "cell_type": "code",
      "metadata": {
        "id": "cW1gxhQ9-2ac"
      },
      "source": [
        "import string"
      ],
      "execution_count": 67,
      "outputs": []
    },
    {
      "cell_type": "code",
      "metadata": {
        "id": "q4IEHPWE-6uU",
        "outputId": "8a840d5d-d5c7-4bff-f928-643d11ea02de",
        "colab": {
          "base_uri": "https://localhost:8080/",
          "height": 35
        }
      },
      "source": [
        "lower_letters=string.ascii_lowercase\n",
        "lower_letters\n"
      ],
      "execution_count": 68,
      "outputs": [
        {
          "output_type": "execute_result",
          "data": {
            "application/vnd.google.colaboratory.intrinsic+json": {
              "type": "string"
            },
            "text/plain": [
              "'abcdefghijklmnopqrstuvwxyz'"
            ]
          },
          "metadata": {},
          "execution_count": 68
        }
      ]
    },
    {
      "cell_type": "code",
      "metadata": {
        "id": "HWmGhx32_McD",
        "outputId": "f4449508-74b8-43a3-9ed1-14c41f58e94f",
        "colab": {
          "base_uri": "https://localhost:8080/",
          "height": 35
        }
      },
      "source": [
        "string.ascii_letters"
      ],
      "execution_count": 69,
      "outputs": [
        {
          "output_type": "execute_result",
          "data": {
            "application/vnd.google.colaboratory.intrinsic+json": {
              "type": "string"
            },
            "text/plain": [
              "'abcdefghijklmnopqrstuvwxyzABCDEFGHIJKLMNOPQRSTUVWXYZ'"
            ]
          },
          "metadata": {},
          "execution_count": 69
        }
      ]
    },
    {
      "cell_type": "code",
      "metadata": {
        "id": "PA7ui2zA_UPy"
      },
      "source": [
        "text='''\n",
        "0.Beginning\n",
        "1.\n",
        "Hercules used his mighty strength to push the riverbeds of a couple of nearby rivers and change their course, so that the rivers would rush through the stables and clean them out! \n",
        "It was a clever solution. The job was done in just a few hours.\n",
        "2.\n",
        "Hercules put most of the river beds back where they were. \n",
        "But he left one babbling brook for the comfort of the animals.\n",
        "3.\n",
        "When all of the animals who lived in the stable came home that night from the fields, they found clean beds of hay, warm buckets of oats, and fresh running water. \n",
        "They could not have been more happy.\n",
        "'''"
      ],
      "execution_count": 95,
      "outputs": []
    },
    {
      "cell_type": "code",
      "metadata": {
        "id": "9s5PWd0I_Qua",
        "outputId": "8c2db377-03df-4680-85c1-3825477a937b",
        "colab": {
          "base_uri": "https://localhost:8080/",
          "height": 137
        }
      },
      "source": [
        "string.capwords(text)"
      ],
      "execution_count": 96,
      "outputs": [
        {
          "output_type": "execute_result",
          "data": {
            "application/vnd.google.colaboratory.intrinsic+json": {
              "type": "string"
            },
            "text/plain": [
              "'0.beginning 1. Hercules Used His Mighty Strength To Push The Riverbeds Of A Couple Of Nearby Rivers And Change Their Course, So That The Rivers Would Rush Through The Stables And Clean Them Out! It Was A Clever Solution. The Job Was Done In Just A Few Hours. 2. Hercules Put Most Of The River Beds Back Where They Were. But He Left One Babbling Brook For The Comfort Of The Animals. 3. When All Of The Animals Who Lived In The Stable Came Home That Night From The Fields, They Found Clean Beds Of Hay, Warm Buckets Of Oats, And Fresh Running Water. They Could Not Have Been More Happy.'"
            ]
          },
          "metadata": {},
          "execution_count": 96
        }
      ]
    },
    {
      "cell_type": "code",
      "metadata": {
        "id": "B5U3vsyj_hoE",
        "outputId": "2858e03d-67d6-404f-fb87-0f0869cd35e4",
        "colab": {
          "base_uri": "https://localhost:8080/",
          "height": 35
        }
      },
      "source": [
        "string.punctuation"
      ],
      "execution_count": 97,
      "outputs": [
        {
          "output_type": "execute_result",
          "data": {
            "application/vnd.google.colaboratory.intrinsic+json": {
              "type": "string"
            },
            "text/plain": [
              "'!\"#$%&\\'()*+,-./:;<=>?@[\\\\]^_`{|}~'"
            ]
          },
          "metadata": {},
          "execution_count": 97
        }
      ]
    },
    {
      "cell_type": "code",
      "metadata": {
        "id": "fCLlsCpv_0Nc",
        "outputId": "5e951144-6fa4-457f-d6bd-5679063352d8",
        "colab": {
          "base_uri": "https://localhost:8080/",
          "height": 35
        }
      },
      "source": [
        "string.whitespace"
      ],
      "execution_count": 98,
      "outputs": [
        {
          "output_type": "execute_result",
          "data": {
            "application/vnd.google.colaboratory.intrinsic+json": {
              "type": "string"
            },
            "text/plain": [
              "' \\t\\n\\r\\x0b\\x0c'"
            ]
          },
          "metadata": {},
          "execution_count": 98
        }
      ]
    },
    {
      "cell_type": "code",
      "metadata": {
        "id": "b2ZsEdGz_5WT",
        "outputId": "5e5327e8-570d-44da-c837-1576db2b2f73",
        "colab": {
          "base_uri": "https://localhost:8080/",
          "height": 35
        }
      },
      "source": [
        "string.digits"
      ],
      "execution_count": 99,
      "outputs": [
        {
          "output_type": "execute_result",
          "data": {
            "application/vnd.google.colaboratory.intrinsic+json": {
              "type": "string"
            },
            "text/plain": [
              "'0123456789'"
            ]
          },
          "metadata": {},
          "execution_count": 99
        }
      ]
    },
    {
      "cell_type": "code",
      "metadata": {
        "id": "NDnlWdhV_8yM",
        "outputId": "34d43c93-8790-49a0-a2ed-190ad9b9d819",
        "colab": {
          "base_uri": "https://localhost:8080/",
          "height": 35
        }
      },
      "source": [
        "string.hexdigits"
      ],
      "execution_count": 100,
      "outputs": [
        {
          "output_type": "execute_result",
          "data": {
            "application/vnd.google.colaboratory.intrinsic+json": {
              "type": "string"
            },
            "text/plain": [
              "'0123456789abcdefABCDEF'"
            ]
          },
          "metadata": {},
          "execution_count": 100
        }
      ]
    },
    {
      "cell_type": "code",
      "metadata": {
        "id": "nJ9eHnSkAALL",
        "outputId": "c729bdb6-80df-4d51-cab8-4f3b0fc3d10b",
        "colab": {
          "base_uri": "https://localhost:8080/",
          "height": 52
        }
      },
      "source": [
        "string.printable"
      ],
      "execution_count": 101,
      "outputs": [
        {
          "output_type": "execute_result",
          "data": {
            "application/vnd.google.colaboratory.intrinsic+json": {
              "type": "string"
            },
            "text/plain": [
              "'0123456789abcdefghijklmnopqrstuvwxyzABCDEFGHIJKLMNOPQRSTUVWXYZ!\"#$%&\\'()*+,-./:;<=>?@[\\\\]^_`{|}~ \\t\\n\\r\\x0b\\x0c'"
            ]
          },
          "metadata": {},
          "execution_count": 101
        }
      ]
    },
    {
      "cell_type": "code",
      "metadata": {
        "id": "c9R37G9FADzz",
        "outputId": "226fa9ba-168d-491f-9f27-61d8216cc7d3",
        "colab": {
          "base_uri": "https://localhost:8080/"
        }
      },
      "source": [
        "names = ['John', 'Paul', 'Lisa', 'Michael']\n",
        " \n",
        "email = \"\"\"Hello $name,\n",
        " \n",
        "Thank you for visiting our website.\n",
        "Team, XYZ\"\"\"\n",
        " \n",
        "template = string.Template(email)\n",
        " \n",
        "for name in names:\n",
        "    print(template.substitute(name=name))\n",
        "    print('-' * 35)"
      ],
      "execution_count": 102,
      "outputs": [
        {
          "output_type": "stream",
          "name": "stdout",
          "text": [
            "Hello John,\n",
            " \n",
            "Thank you for visiting our website.\n",
            "Team, XYZ\n",
            "-----------------------------------\n",
            "Hello Paul,\n",
            " \n",
            "Thank you for visiting our website.\n",
            "Team, XYZ\n",
            "-----------------------------------\n",
            "Hello Lisa,\n",
            " \n",
            "Thank you for visiting our website.\n",
            "Team, XYZ\n",
            "-----------------------------------\n",
            "Hello Michael,\n",
            " \n",
            "Thank you for visiting our website.\n",
            "Team, XYZ\n",
            "-----------------------------------\n"
          ]
        }
      ]
    },
    {
      "cell_type": "code",
      "metadata": {
        "id": "tAIu2exTAgB8"
      },
      "source": [
        "import re"
      ],
      "execution_count": 103,
      "outputs": []
    },
    {
      "cell_type": "code",
      "metadata": {
        "id": "7baGwBvlAqn0",
        "outputId": "d260c828-0ba2-447f-9e98-eaaf4bb4df2b",
        "colab": {
          "base_uri": "https://localhost:8080/"
        }
      },
      "source": [
        "print(re.findall(pattern=r'\\d', string=text))"
      ],
      "execution_count": 104,
      "outputs": [
        {
          "output_type": "stream",
          "name": "stdout",
          "text": [
            "['0', '1', '2', '3']\n"
          ]
        }
      ]
    },
    {
      "cell_type": "code",
      "metadata": {
        "id": "xYXtKSj2A91U",
        "outputId": "bf30b058-6fc0-4900-e0de-8d9d7c5ea4a3",
        "colab": {
          "base_uri": "https://localhost:8080/"
        }
      },
      "source": [
        "print(re.findall(pattern=r'\\D', string=text))"
      ],
      "execution_count": 105,
      "outputs": [
        {
          "output_type": "stream",
          "name": "stdout",
          "text": [
            "['\\n', '.', 'B', 'e', 'g', 'i', 'n', 'n', 'i', 'n', 'g', '\\n', '.', '\\n', 'H', 'e', 'r', 'c', 'u', 'l', 'e', 's', ' ', 'u', 's', 'e', 'd', ' ', 'h', 'i', 's', ' ', 'm', 'i', 'g', 'h', 't', 'y', ' ', 's', 't', 'r', 'e', 'n', 'g', 't', 'h', ' ', 't', 'o', ' ', 'p', 'u', 's', 'h', ' ', 't', 'h', 'e', ' ', 'r', 'i', 'v', 'e', 'r', 'b', 'e', 'd', 's', ' ', 'o', 'f', ' ', 'a', ' ', 'c', 'o', 'u', 'p', 'l', 'e', ' ', 'o', 'f', ' ', 'n', 'e', 'a', 'r', 'b', 'y', ' ', 'r', 'i', 'v', 'e', 'r', 's', ' ', 'a', 'n', 'd', ' ', 'c', 'h', 'a', 'n', 'g', 'e', ' ', 't', 'h', 'e', 'i', 'r', ' ', 'c', 'o', 'u', 'r', 's', 'e', ',', ' ', 's', 'o', ' ', 't', 'h', 'a', 't', ' ', 't', 'h', 'e', ' ', 'r', 'i', 'v', 'e', 'r', 's', ' ', 'w', 'o', 'u', 'l', 'd', ' ', 'r', 'u', 's', 'h', ' ', 't', 'h', 'r', 'o', 'u', 'g', 'h', ' ', 't', 'h', 'e', ' ', 's', 't', 'a', 'b', 'l', 'e', 's', ' ', 'a', 'n', 'd', ' ', 'c', 'l', 'e', 'a', 'n', ' ', 't', 'h', 'e', 'm', ' ', 'o', 'u', 't', '!', ' ', '\\n', 'I', 't', ' ', 'w', 'a', 's', ' ', 'a', ' ', 'c', 'l', 'e', 'v', 'e', 'r', ' ', 's', 'o', 'l', 'u', 't', 'i', 'o', 'n', '.', ' ', 'T', 'h', 'e', ' ', 'j', 'o', 'b', ' ', 'w', 'a', 's', ' ', 'd', 'o', 'n', 'e', ' ', 'i', 'n', ' ', 'j', 'u', 's', 't', ' ', 'a', ' ', 'f', 'e', 'w', ' ', 'h', 'o', 'u', 'r', 's', '.', '\\n', '.', '\\n', 'H', 'e', 'r', 'c', 'u', 'l', 'e', 's', ' ', 'p', 'u', 't', ' ', 'm', 'o', 's', 't', ' ', 'o', 'f', ' ', 't', 'h', 'e', ' ', 'r', 'i', 'v', 'e', 'r', ' ', 'b', 'e', 'd', 's', ' ', 'b', 'a', 'c', 'k', ' ', 'w', 'h', 'e', 'r', 'e', ' ', 't', 'h', 'e', 'y', ' ', 'w', 'e', 'r', 'e', '.', ' ', '\\n', 'B', 'u', 't', ' ', 'h', 'e', ' ', 'l', 'e', 'f', 't', ' ', 'o', 'n', 'e', ' ', 'b', 'a', 'b', 'b', 'l', 'i', 'n', 'g', ' ', 'b', 'r', 'o', 'o', 'k', ' ', 'f', 'o', 'r', ' ', 't', 'h', 'e', ' ', 'c', 'o', 'm', 'f', 'o', 'r', 't', ' ', 'o', 'f', ' ', 't', 'h', 'e', ' ', 'a', 'n', 'i', 'm', 'a', 'l', 's', '.', '\\n', '.', '\\n', 'W', 'h', 'e', 'n', ' ', 'a', 'l', 'l', ' ', 'o', 'f', ' ', 't', 'h', 'e', ' ', 'a', 'n', 'i', 'm', 'a', 'l', 's', ' ', 'w', 'h', 'o', ' ', 'l', 'i', 'v', 'e', 'd', ' ', 'i', 'n', ' ', 't', 'h', 'e', ' ', 's', 't', 'a', 'b', 'l', 'e', ' ', 'c', 'a', 'm', 'e', ' ', 'h', 'o', 'm', 'e', ' ', 't', 'h', 'a', 't', ' ', 'n', 'i', 'g', 'h', 't', ' ', 'f', 'r', 'o', 'm', ' ', 't', 'h', 'e', ' ', 'f', 'i', 'e', 'l', 'd', 's', ',', ' ', 't', 'h', 'e', 'y', ' ', 'f', 'o', 'u', 'n', 'd', ' ', 'c', 'l', 'e', 'a', 'n', ' ', 'b', 'e', 'd', 's', ' ', 'o', 'f', ' ', 'h', 'a', 'y', ',', ' ', 'w', 'a', 'r', 'm', ' ', 'b', 'u', 'c', 'k', 'e', 't', 's', ' ', 'o', 'f', ' ', 'o', 'a', 't', 's', ',', ' ', 'a', 'n', 'd', ' ', 'f', 'r', 'e', 's', 'h', ' ', 'r', 'u', 'n', 'n', 'i', 'n', 'g', ' ', 'w', 'a', 't', 'e', 'r', '.', ' ', '\\n', 'T', 'h', 'e', 'y', ' ', 'c', 'o', 'u', 'l', 'd', ' ', 'n', 'o', 't', ' ', 'h', 'a', 'v', 'e', ' ', 'b', 'e', 'e', 'n', ' ', 'm', 'o', 'r', 'e', ' ', 'h', 'a', 'p', 'p', 'y', '.', '\\n']\n"
          ]
        }
      ]
    },
    {
      "cell_type": "code",
      "metadata": {
        "id": "X7iRNE9lBDYL",
        "outputId": "40d158bc-037c-4557-991b-66caa0e90bc3",
        "colab": {
          "base_uri": "https://localhost:8080/"
        }
      },
      "source": [
        "print(re.findall(pattern=r\"[^0-]\", string=text)) # not zero"
      ],
      "execution_count": 107,
      "outputs": [
        {
          "output_type": "stream",
          "name": "stdout",
          "text": [
            "['\\n', '.', 'B', 'e', 'g', 'i', 'n', 'n', 'i', 'n', 'g', '\\n', '1', '.', '\\n', 'H', 'e', 'r', 'c', 'u', 'l', 'e', 's', ' ', 'u', 's', 'e', 'd', ' ', 'h', 'i', 's', ' ', 'm', 'i', 'g', 'h', 't', 'y', ' ', 's', 't', 'r', 'e', 'n', 'g', 't', 'h', ' ', 't', 'o', ' ', 'p', 'u', 's', 'h', ' ', 't', 'h', 'e', ' ', 'r', 'i', 'v', 'e', 'r', 'b', 'e', 'd', 's', ' ', 'o', 'f', ' ', 'a', ' ', 'c', 'o', 'u', 'p', 'l', 'e', ' ', 'o', 'f', ' ', 'n', 'e', 'a', 'r', 'b', 'y', ' ', 'r', 'i', 'v', 'e', 'r', 's', ' ', 'a', 'n', 'd', ' ', 'c', 'h', 'a', 'n', 'g', 'e', ' ', 't', 'h', 'e', 'i', 'r', ' ', 'c', 'o', 'u', 'r', 's', 'e', ',', ' ', 's', 'o', ' ', 't', 'h', 'a', 't', ' ', 't', 'h', 'e', ' ', 'r', 'i', 'v', 'e', 'r', 's', ' ', 'w', 'o', 'u', 'l', 'd', ' ', 'r', 'u', 's', 'h', ' ', 't', 'h', 'r', 'o', 'u', 'g', 'h', ' ', 't', 'h', 'e', ' ', 's', 't', 'a', 'b', 'l', 'e', 's', ' ', 'a', 'n', 'd', ' ', 'c', 'l', 'e', 'a', 'n', ' ', 't', 'h', 'e', 'm', ' ', 'o', 'u', 't', '!', ' ', '\\n', 'I', 't', ' ', 'w', 'a', 's', ' ', 'a', ' ', 'c', 'l', 'e', 'v', 'e', 'r', ' ', 's', 'o', 'l', 'u', 't', 'i', 'o', 'n', '.', ' ', 'T', 'h', 'e', ' ', 'j', 'o', 'b', ' ', 'w', 'a', 's', ' ', 'd', 'o', 'n', 'e', ' ', 'i', 'n', ' ', 'j', 'u', 's', 't', ' ', 'a', ' ', 'f', 'e', 'w', ' ', 'h', 'o', 'u', 'r', 's', '.', '\\n', '2', '.', '\\n', 'H', 'e', 'r', 'c', 'u', 'l', 'e', 's', ' ', 'p', 'u', 't', ' ', 'm', 'o', 's', 't', ' ', 'o', 'f', ' ', 't', 'h', 'e', ' ', 'r', 'i', 'v', 'e', 'r', ' ', 'b', 'e', 'd', 's', ' ', 'b', 'a', 'c', 'k', ' ', 'w', 'h', 'e', 'r', 'e', ' ', 't', 'h', 'e', 'y', ' ', 'w', 'e', 'r', 'e', '.', ' ', '\\n', 'B', 'u', 't', ' ', 'h', 'e', ' ', 'l', 'e', 'f', 't', ' ', 'o', 'n', 'e', ' ', 'b', 'a', 'b', 'b', 'l', 'i', 'n', 'g', ' ', 'b', 'r', 'o', 'o', 'k', ' ', 'f', 'o', 'r', ' ', 't', 'h', 'e', ' ', 'c', 'o', 'm', 'f', 'o', 'r', 't', ' ', 'o', 'f', ' ', 't', 'h', 'e', ' ', 'a', 'n', 'i', 'm', 'a', 'l', 's', '.', '\\n', '3', '.', '\\n', 'W', 'h', 'e', 'n', ' ', 'a', 'l', 'l', ' ', 'o', 'f', ' ', 't', 'h', 'e', ' ', 'a', 'n', 'i', 'm', 'a', 'l', 's', ' ', 'w', 'h', 'o', ' ', 'l', 'i', 'v', 'e', 'd', ' ', 'i', 'n', ' ', 't', 'h', 'e', ' ', 's', 't', 'a', 'b', 'l', 'e', ' ', 'c', 'a', 'm', 'e', ' ', 'h', 'o', 'm', 'e', ' ', 't', 'h', 'a', 't', ' ', 'n', 'i', 'g', 'h', 't', ' ', 'f', 'r', 'o', 'm', ' ', 't', 'h', 'e', ' ', 'f', 'i', 'e', 'l', 'd', 's', ',', ' ', 't', 'h', 'e', 'y', ' ', 'f', 'o', 'u', 'n', 'd', ' ', 'c', 'l', 'e', 'a', 'n', ' ', 'b', 'e', 'd', 's', ' ', 'o', 'f', ' ', 'h', 'a', 'y', ',', ' ', 'w', 'a', 'r', 'm', ' ', 'b', 'u', 'c', 'k', 'e', 't', 's', ' ', 'o', 'f', ' ', 'o', 'a', 't', 's', ',', ' ', 'a', 'n', 'd', ' ', 'f', 'r', 'e', 's', 'h', ' ', 'r', 'u', 'n', 'n', 'i', 'n', 'g', ' ', 'w', 'a', 't', 'e', 'r', '.', ' ', '\\n', 'T', 'h', 'e', 'y', ' ', 'c', 'o', 'u', 'l', 'd', ' ', 'n', 'o', 't', ' ', 'h', 'a', 'v', 'e', ' ', 'b', 'e', 'e', 'n', ' ', 'm', 'o', 'r', 'e', ' ', 'h', 'a', 'p', 'p', 'y', '.', '\\n']\n"
          ]
        }
      ]
    },
    {
      "cell_type": "code",
      "metadata": {
        "id": "DT0PVSe3BVn0",
        "outputId": "24f5f229-40b7-4607-c199-f83dd2f0cb93",
        "colab": {
          "base_uri": "https://localhost:8080/"
        }
      },
      "source": [
        "message = 'For more information, please call: 123-456-7895 or 564-237-4572'\n",
        "print(re.findall(r\"\\d{3}-\\d{3}-\\d{4}\", message))"
      ],
      "execution_count": 114,
      "outputs": [
        {
          "output_type": "stream",
          "name": "stdout",
          "text": [
            "['123-456-7895', '564-237-4572']\n"
          ]
        }
      ]
    },
    {
      "cell_type": "code",
      "metadata": {
        "id": "kcJOP66_BvM0",
        "outputId": "8f66347e-b91f-4e6b-e72f-dd52b5b1c527",
        "colab": {
          "base_uri": "https://localhost:8080/"
        }
      },
      "source": [
        "mes = \"Please send an email to info@template.com or call to: 123-456-789.\"\n",
        "print(re.sub(r\"\\d{3}-\\d{3}-\\d{3}\", '***-***-***', mes))"
      ],
      "execution_count": 115,
      "outputs": [
        {
          "output_type": "stream",
          "name": "stdout",
          "text": [
            "Please send an email to info@template.com or call to: ***-***-***.\n"
          ]
        }
      ]
    },
    {
      "cell_type": "code",
      "metadata": {
        "id": "pnTcIGSZCTRM"
      },
      "source": [
        "import collections"
      ],
      "execution_count": 116,
      "outputs": []
    },
    {
      "cell_type": "code",
      "metadata": {
        "id": "m9eHC7qGCa6E"
      },
      "source": [
        "from collections import Counter"
      ],
      "execution_count": 117,
      "outputs": []
    },
    {
      "cell_type": "code",
      "metadata": {
        "id": "mOUxCJ3cCfgk",
        "outputId": "be568661-6449-418e-fe6a-1717fcaa43e4",
        "colab": {
          "base_uri": "https://localhost:8080/"
        }
      },
      "source": [
        "target = ['yes', 'no', 'no', None, 'yes', 'yes', 'no', 'yes']\n",
        "cnt = Counter(target)\n",
        "print(cnt)"
      ],
      "execution_count": 118,
      "outputs": [
        {
          "output_type": "stream",
          "name": "stdout",
          "text": [
            "Counter({'yes': 4, 'no': 3, None: 1})\n"
          ]
        }
      ]
    },
    {
      "cell_type": "code",
      "metadata": {
        "id": "VTtkWOQPClEE",
        "outputId": "0c7f8c89-b038-4639-fbb5-bb693b4f6038",
        "colab": {
          "base_uri": "https://localhost:8080/"
        }
      },
      "source": [
        "poll_1 = {'yes': 140, 'no': 120, None: 12}\n",
        "poll_2 = {'yes': 113, 'no': 132, None: 9}\n",
        " \n",
        "cnt_1 = Counter(poll_1)\n",
        "cnt_2 = Counter(poll_2)\n",
        " \n",
        "cnt_total = cnt_1 + cnt_2\n",
        "print(cnt_total)"
      ],
      "execution_count": 119,
      "outputs": [
        {
          "output_type": "stream",
          "name": "stdout",
          "text": [
            "Counter({'yes': 253, 'no': 252, None: 21})\n"
          ]
        }
      ]
    },
    {
      "cell_type": "code",
      "metadata": {
        "id": "O4mENsIFCqq8",
        "outputId": "87c076bc-cd5d-4d89-a371-395bbce29178",
        "colab": {
          "base_uri": "https://localhost:8080/"
        }
      },
      "source": [
        "poll_1 = {'yes': 140, 'no': 120, None: 12}\n",
        "poll_2 = {'yes': 113, 'no': 132, None: 9}\n",
        "poll_3 = {'yes': 16, 'no': 14}\n",
        " \n",
        "cnt_1 = Counter(poll_1)\n",
        "cnt_2 = Counter(poll_2)\n",
        "cnt_3 = Counter(poll_3)\n",
        " \n",
        "cnt_total = cnt_1 + cnt_2 + cnt_3\n",
        "print(cnt_total['yes'])"
      ],
      "execution_count": 120,
      "outputs": [
        {
          "output_type": "stream",
          "name": "stdout",
          "text": [
            "269\n"
          ]
        }
      ]
    },
    {
      "cell_type": "code",
      "metadata": {
        "id": "BGVFwovQC0Gd",
        "outputId": "7facd2ff-8fce-4aed-f78f-faed2903506f",
        "colab": {
          "base_uri": "https://localhost:8080/"
        }
      },
      "source": [
        "cnt = Counter(text)\n",
        "print(cnt)"
      ],
      "execution_count": 124,
      "outputs": [
        {
          "output_type": "stream",
          "name": "stdout",
          "text": [
            "Counter({' ': 104, 'e': 60, 't': 38, 'h': 36, 'o': 34, 'a': 30, 'r': 29, 's': 29, 'n': 27, 'i': 19, 'u': 19, 'l': 19, 'f': 15, 'b': 14, 'c': 13, 'd': 13, '\\n': 11, 'm': 11, '.': 10, 'g': 9, 'w': 9, 'y': 7, 'v': 7, 'p': 5, ',': 4, 'k': 3, 'B': 2, 'H': 2, 'T': 2, 'j': 2, '0': 1, '1': 1, '!': 1, 'I': 1, '2': 1, '3': 1, 'W': 1})\n"
          ]
        }
      ]
    },
    {
      "cell_type": "code",
      "metadata": {
        "id": "qPNa4FPhC-69",
        "outputId": "b165391e-18b9-4116-fff0-b391854a4b7f",
        "colab": {
          "base_uri": "https://localhost:8080/"
        }
      },
      "source": [
        "print(cnt[\"a\"])"
      ],
      "execution_count": 125,
      "outputs": [
        {
          "output_type": "stream",
          "name": "stdout",
          "text": [
            "30\n"
          ]
        }
      ]
    },
    {
      "cell_type": "code",
      "metadata": {
        "id": "i5opj4oBDHNM",
        "outputId": "e2792a04-2a4b-4358-d01a-c6a9d8f77d2d",
        "colab": {
          "base_uri": "https://localhost:8080/"
        }
      },
      "source": [
        "cnt.most_common(3)"
      ],
      "execution_count": 126,
      "outputs": [
        {
          "output_type": "execute_result",
          "data": {
            "text/plain": [
              "[(' ', 104), ('e', 60), ('t', 38)]"
            ]
          },
          "metadata": {},
          "execution_count": 126
        }
      ]
    },
    {
      "cell_type": "code",
      "metadata": {
        "id": "yNdj5ZipDVk0",
        "outputId": "177aa08e-6011-47e8-df70-61546598a1a2",
        "colab": {
          "base_uri": "https://localhost:8080/"
        }
      },
      "source": [
        "from collections import ChainMap\n",
        " \n",
        " \n",
        "techs = {'Apple': 370, 'Samsung': 1100, 'Microsoft': 201}\n",
        "finance = {'Citigroup': 51, 'Allianz': 180}\n",
        "gaming = {'Sony': 76, 'Nintendo': 470, 'EA': 135}\n",
        " \n",
        "stocks = ChainMap(techs, finance, gaming)\n",
        "print(stocks['Sony'])"
      ],
      "execution_count": 128,
      "outputs": [
        {
          "output_type": "stream",
          "name": "stdout",
          "text": [
            "76\n"
          ]
        }
      ]
    },
    {
      "cell_type": "code",
      "metadata": {
        "id": "3d0ktiFQDv80",
        "outputId": "397d848b-af51-472e-e4b4-3fb9457e03a1",
        "colab": {
          "base_uri": "https://localhost:8080/"
        }
      },
      "source": [
        "techs['Microsoft'] = 210\n",
        "print(stocks['Microsoft'])"
      ],
      "execution_count": 129,
      "outputs": [
        {
          "output_type": "stream",
          "name": "stdout",
          "text": [
            "210\n"
          ]
        }
      ]
    },
    {
      "cell_type": "code",
      "metadata": {
        "id": "D3w-STNtD-j0",
        "outputId": "7639dca2-53ea-4f19-9e4d-39471b08adac",
        "colab": {
          "base_uri": "https://localhost:8080/"
        }
      },
      "source": [
        "print(sorted(list(techs.keys())))"
      ],
      "execution_count": 130,
      "outputs": [
        {
          "output_type": "stream",
          "name": "stdout",
          "text": [
            "['Apple', 'Microsoft', 'Samsung']\n"
          ]
        }
      ]
    },
    {
      "cell_type": "code",
      "metadata": {
        "id": "X_5GoNDbEHbU",
        "outputId": "dcddf3b9-7d34-477a-b444-d6a456d52995",
        "colab": {
          "base_uri": "https://localhost:8080/"
        }
      },
      "source": [
        "from collections import namedtuple\n",
        " \n",
        " \n",
        "Point = namedtuple(typename='Point', field_names=['x', 'y'])\n",
        " \n",
        "pt1 = Point(3, 4)\n",
        "pt2 = Point(-2, 6)\n",
        " \n",
        "print(pt1)\n",
        "print(pt2)"
      ],
      "execution_count": 131,
      "outputs": [
        {
          "output_type": "stream",
          "name": "stdout",
          "text": [
            "Point(x=3, y=4)\n",
            "Point(x=-2, y=6)\n"
          ]
        }
      ]
    },
    {
      "cell_type": "code",
      "metadata": {
        "id": "Mt-61gTGETzb",
        "outputId": "5d073927-cbae-40c9-e625-afbd256e7a73",
        "colab": {
          "base_uri": "https://localhost:8080/"
        }
      },
      "source": [
        "Student = namedtuple(typename='Student', field_names=['name', 'age', 'spec'])\n",
        " \n",
        "students = [\n",
        "    Student('Mike', 21, 'physics'),\n",
        "    Student('Kate', 20, 'mathematics'),\n",
        "    Student('Bob', 21, 'information technology')\n",
        "    ]\n",
        " \n",
        "for student in students:\n",
        "    print(f'{student.name:5}: {student.age}: {student.spec}')"
      ],
      "execution_count": 132,
      "outputs": [
        {
          "output_type": "stream",
          "name": "stdout",
          "text": [
            "Mike : 21: physics\n",
            "Kate : 20: mathematics\n",
            "Bob  : 21: information technology\n"
          ]
        }
      ]
    },
    {
      "cell_type": "code",
      "metadata": {
        "id": "w7z-KxloEjrO",
        "outputId": "94c0c16c-ae1d-498d-ca44-0ac5f37e3d15",
        "colab": {
          "base_uri": "https://localhost:8080/"
        }
      },
      "source": [
        "Student = namedtuple(typename='Student', field_names=['name', 'age', 'specialization'])\n",
        " \n",
        "students = [\n",
        "    Student('Mike', 21, 'physics'),\n",
        "    Student('Mark', 22, 'biology'),\n",
        "    Student('Kate', 20, 'mathematics'),\n",
        "    Student('Bob', 21, 'information technology')\n",
        "    ]\n",
        " \n",
        "students.sort(key=lambda student: student.age)\n",
        "print(students)"
      ],
      "execution_count": 133,
      "outputs": [
        {
          "output_type": "stream",
          "name": "stdout",
          "text": [
            "[Student(name='Kate', age=20, specialization='mathematics'), Student(name='Mike', age=21, specialization='physics'), Student(name='Bob', age=21, specialization='information technology'), Student(name='Mark', age=22, specialization='biology')]\n"
          ]
        }
      ]
    },
    {
      "cell_type": "code",
      "metadata": {
        "id": "qwpEw2gfEtO8",
        "outputId": "f495de5f-16ed-45b7-e336-95adbfb6f615",
        "colab": {
          "base_uri": "https://localhost:8080/"
        }
      },
      "source": [
        "Student = namedtuple(typename='Student', field_names=['name', 'age', 'specialization'])\n",
        " \n",
        "st1 = {'name': 'Kate', 'age': 20, 'specialization': 'mathematics'}\n",
        "st2 = {'name': 'Mike', 'age': 21, 'specialization': 'physics'}\n",
        "st3 = {'name': 'Bob', 'age': 21, 'specialization': 'information technology'}\n",
        " \n",
        "students = [Student(**st1), Student(**st2), Student(**st3)]\n",
        " \n",
        "for student in students:\n",
        "    print(student)"
      ],
      "execution_count": 134,
      "outputs": [
        {
          "output_type": "stream",
          "name": "stdout",
          "text": [
            "Student(name='Kate', age=20, specialization='mathematics')\n",
            "Student(name='Mike', age=21, specialization='physics')\n",
            "Student(name='Bob', age=21, specialization='information technology')\n"
          ]
        }
      ]
    },
    {
      "cell_type": "code",
      "metadata": {
        "id": "hQ954BvMFFzd",
        "outputId": "e65a1863-129d-4030-f608-98a5eba8d445",
        "colab": {
          "base_uri": "https://localhost:8080/"
        }
      },
      "source": [
        "from pprint import pprint\n",
        "data_dict = {\n",
        "    \"users\": [\n",
        "        {\n",
        "            \"userId\": 1,\n",
        "            \"firstName\": \"Krish\",\n",
        "            \"lastName\": \"Lee\",\n",
        "            \"emailAddress\": \"krish.lee@example.com\"\n",
        "        },\n",
        "        {\n",
        "            \"userId\": 2,\n",
        "            \"firstName\": \"racks\",\n",
        "            \"lastName\": \"jacson\",\n",
        "            \"emailAddress\": \"racks.jacson@example.com\"\n",
        "        },\n",
        "        {\n",
        "            \"userId\": 3,\n",
        "            \"firstName\": \"denial\",\n",
        "            \"lastName\": \"roast\",\n",
        "            \"emailAddress\": \"denial.roast@example.com\"\n",
        "        }\n",
        "    ]\n",
        "}\n",
        " \n",
        "pprint(data_dict)"
      ],
      "execution_count": 136,
      "outputs": [
        {
          "output_type": "stream",
          "name": "stdout",
          "text": [
            "{'users': [{'emailAddress': 'krish.lee@example.com',\n",
            "            'firstName': 'Krish',\n",
            "            'lastName': 'Lee',\n",
            "            'userId': 1},\n",
            "           {'emailAddress': 'racks.jacson@example.com',\n",
            "            'firstName': 'racks',\n",
            "            'lastName': 'jacson',\n",
            "            'userId': 2},\n",
            "           {'emailAddress': 'denial.roast@example.com',\n",
            "            'firstName': 'denial',\n",
            "            'lastName': 'roast',\n",
            "            'userId': 3}]}\n"
          ]
        }
      ]
    },
    {
      "cell_type": "code",
      "metadata": {
        "id": "5GK17tUgF0TF"
      },
      "source": [
        "import pathlib"
      ],
      "execution_count": 137,
      "outputs": []
    },
    {
      "cell_type": "code",
      "metadata": {
        "id": "JofTVUw7F4c1",
        "outputId": "9314518b-8ae8-4842-9bfe-6eefad51cd1f",
        "colab": {
          "base_uri": "https://localhost:8080/"
        }
      },
      "source": [
        "print(pathlib.Path.cwd())"
      ],
      "execution_count": 138,
      "outputs": [
        {
          "output_type": "stream",
          "name": "stdout",
          "text": [
            "/content/images\n"
          ]
        }
      ]
    },
    {
      "cell_type": "code",
      "metadata": {
        "id": "wzGFsJ3uF7qU",
        "outputId": "0f1a3ede-9937-4eae-ae16-f3fc832bc3c9",
        "colab": {
          "base_uri": "https://localhost:8080/"
        }
      },
      "source": [
        "print(pathlib.Path.home())"
      ],
      "execution_count": 139,
      "outputs": [
        {
          "output_type": "stream",
          "name": "stdout",
          "text": [
            "/root\n"
          ]
        }
      ]
    },
    {
      "cell_type": "code",
      "metadata": {
        "id": "FXo19UN9F_39"
      },
      "source": [
        "from pathlib import Path"
      ],
      "execution_count": 140,
      "outputs": []
    },
    {
      "cell_type": "code",
      "metadata": {
        "id": "jFfkRvDgGCFF",
        "outputId": "e0c3d209-1489-4d14-e6e6-31d67b0fcf1a",
        "colab": {
          "base_uri": "https://localhost:8080/"
        }
      },
      "source": [
        "p=Path.cwd()\n",
        "p"
      ],
      "execution_count": 141,
      "outputs": [
        {
          "output_type": "execute_result",
          "data": {
            "text/plain": [
              "PosixPath('/content/images')"
            ]
          },
          "metadata": {},
          "execution_count": 141
        }
      ]
    },
    {
      "cell_type": "code",
      "metadata": {
        "id": "MoLNFmn1GMzE",
        "outputId": "46be7174-30a8-4c6f-9b1d-fded8e1e3047",
        "colab": {
          "base_uri": "https://localhost:8080/"
        }
      },
      "source": [
        "p.parent"
      ],
      "execution_count": 142,
      "outputs": [
        {
          "output_type": "execute_result",
          "data": {
            "text/plain": [
              "PosixPath('/content')"
            ]
          },
          "metadata": {},
          "execution_count": 142
        }
      ]
    },
    {
      "cell_type": "code",
      "metadata": {
        "id": "6QA03_nOGd_9",
        "outputId": "27d09b22-86db-47e2-c15c-638ace70c318",
        "colab": {
          "base_uri": "https://localhost:8080/",
          "height": 35
        }
      },
      "source": [
        "p.name"
      ],
      "execution_count": 143,
      "outputs": [
        {
          "output_type": "execute_result",
          "data": {
            "application/vnd.google.colaboratory.intrinsic+json": {
              "type": "string"
            },
            "text/plain": [
              "'images'"
            ]
          },
          "metadata": {},
          "execution_count": 143
        }
      ]
    },
    {
      "cell_type": "code",
      "metadata": {
        "id": "5NyHoBJ9Gfik",
        "outputId": "48ed95e4-fd04-4d84-cea5-7a744cad549a",
        "colab": {
          "base_uri": "https://localhost:8080/",
          "height": 35
        }
      },
      "source": [
        "p.stem"
      ],
      "execution_count": 144,
      "outputs": [
        {
          "output_type": "execute_result",
          "data": {
            "application/vnd.google.colaboratory.intrinsic+json": {
              "type": "string"
            },
            "text/plain": [
              "'images'"
            ]
          },
          "metadata": {},
          "execution_count": 144
        }
      ]
    },
    {
      "cell_type": "code",
      "metadata": {
        "id": "rE736vN4Gg5b",
        "outputId": "549c1f64-9360-438f-a446-8c4d49e4c74e",
        "colab": {
          "base_uri": "https://localhost:8080/",
          "height": 35
        }
      },
      "source": [
        "p.suffix"
      ],
      "execution_count": 145,
      "outputs": [
        {
          "output_type": "execute_result",
          "data": {
            "application/vnd.google.colaboratory.intrinsic+json": {
              "type": "string"
            },
            "text/plain": [
              "''"
            ]
          },
          "metadata": {},
          "execution_count": 145
        }
      ]
    },
    {
      "cell_type": "code",
      "metadata": {
        "id": "eyAexpjcGiys",
        "outputId": "3b86c514-aefe-477a-c8a0-d9eff03d02e4",
        "colab": {
          "base_uri": "https://localhost:8080/"
        }
      },
      "source": [
        "p.parts"
      ],
      "execution_count": 146,
      "outputs": [
        {
          "output_type": "execute_result",
          "data": {
            "text/plain": [
              "('/', 'content', 'images')"
            ]
          },
          "metadata": {},
          "execution_count": 146
        }
      ]
    },
    {
      "cell_type": "code",
      "metadata": {
        "id": "gysMI2q6GoyB",
        "outputId": "3f0fd9a7-bf0e-45b2-ab55-1d4517f612c9",
        "colab": {
          "base_uri": "https://localhost:8080/"
        }
      },
      "source": [
        "Path.home()"
      ],
      "execution_count": 147,
      "outputs": [
        {
          "output_type": "execute_result",
          "data": {
            "text/plain": [
              "PosixPath('/root')"
            ]
          },
          "metadata": {},
          "execution_count": 147
        }
      ]
    },
    {
      "cell_type": "code",
      "metadata": {
        "id": "xRfYA7nQGlxF",
        "outputId": "580b04f5-62c2-4c7c-cf41-392499f0a131",
        "colab": {
          "base_uri": "https://localhost:8080/"
        }
      },
      "source": [
        "for parent in Path.home().parents:\n",
        "  print(parent)"
      ],
      "execution_count": 149,
      "outputs": [
        {
          "output_type": "stream",
          "name": "stdout",
          "text": [
            "/\n"
          ]
        }
      ]
    },
    {
      "cell_type": "code",
      "metadata": {
        "id": "b2tDo0-2G1ME",
        "outputId": "578c7e01-eb4d-44f5-9671-7ab35ca406e2",
        "colab": {
          "base_uri": "https://localhost:8080/"
        }
      },
      "source": [
        "path = Path.cwd()\n",
        " \n",
        "if not path.is_dir():\n",
        "    path.mkdir()\n",
        " \n",
        "for item in sorted(Path.cwd().iterdir()):\n",
        "    print(item)"
      ],
      "execution_count": 150,
      "outputs": [
        {
          "output_type": "stream",
          "name": "stdout",
          "text": [
            "/content/images/courses\n",
            "/content/images/images\n"
          ]
        }
      ]
    },
    {
      "cell_type": "code",
      "metadata": {
        "id": "bDCsLnRkHB7t"
      },
      "source": [
        "import random"
      ],
      "execution_count": 151,
      "outputs": []
    },
    {
      "cell_type": "code",
      "metadata": {
        "id": "XhoTpHPIHk91",
        "outputId": "37bc1951-1d08-412e-d704-4500d1ba9d19",
        "colab": {
          "base_uri": "https://localhost:8080/"
        }
      },
      "source": [
        "random.seed(42)\n",
        "var = random.random()\n",
        "print(f'{var:.5}')"
      ],
      "execution_count": 152,
      "outputs": [
        {
          "output_type": "stream",
          "name": "stdout",
          "text": [
            "0.63943\n"
          ]
        }
      ]
    },
    {
      "cell_type": "code",
      "metadata": {
        "id": "uvOSCNgSHnpd",
        "outputId": "b0fb50cd-0dc1-4e20-e759-896582f6bd1d",
        "colab": {
          "base_uri": "https://localhost:8080/"
        }
      },
      "source": [
        "random.seed(42)\n",
        "numbers = [round(random.random(), 4) for _ in range(10)]\n",
        "print(numbers)"
      ],
      "execution_count": 153,
      "outputs": [
        {
          "output_type": "stream",
          "name": "stdout",
          "text": [
            "[0.6394, 0.025, 0.275, 0.2232, 0.7365, 0.6767, 0.8922, 0.0869, 0.4219, 0.0298]\n"
          ]
        }
      ]
    },
    {
      "cell_type": "code",
      "metadata": {
        "id": "ndZavGTNHuF9",
        "outputId": "a57aa31d-da78-410c-89a0-f6647b333096",
        "colab": {
          "base_uri": "https://localhost:8080/"
        }
      },
      "source": [
        "random.seed(42)\n",
        "numbers = [random.randint(1, 49) for _ in range(6)]\n",
        "print(numbers)"
      ],
      "execution_count": 154,
      "outputs": [
        {
          "output_type": "stream",
          "name": "stdout",
          "text": [
            "[41, 8, 2, 48, 18, 16]\n"
          ]
        }
      ]
    },
    {
      "cell_type": "code",
      "metadata": {
        "id": "CTo3XkpmH5tl",
        "outputId": "d3adfc61-2fd6-4510-9ffa-07f732270636",
        "colab": {
          "base_uri": "https://localhost:8080/"
        }
      },
      "source": [
        "lang = ['python', 'java', 'php', 'c++', 'c#', 'javascript']\n",
        "random.seed(33)\n",
        "print(random.choice(lang))"
      ],
      "execution_count": 161,
      "outputs": [
        {
          "output_type": "stream",
          "name": "stdout",
          "text": [
            "c#\n"
          ]
        }
      ]
    },
    {
      "cell_type": "code",
      "metadata": {
        "id": "vb5JbqaJH-iW"
      },
      "source": [
        "import math"
      ],
      "execution_count": 162,
      "outputs": []
    },
    {
      "cell_type": "code",
      "metadata": {
        "id": "gVKyJTssIVdE",
        "outputId": "91abeec1-4a05-4bc7-9e4f-1c1843a0b652",
        "colab": {
          "base_uri": "https://localhost:8080/"
        }
      },
      "source": [
        "print(f'Pi number: {math.pi}')\n"
      ],
      "execution_count": 164,
      "outputs": [
        {
          "output_type": "stream",
          "name": "stdout",
          "text": [
            "Pi number: 3.141592653589793\n"
          ]
        }
      ]
    },
    {
      "cell_type": "code",
      "metadata": {
        "id": "HYGhNVB-IZW1"
      },
      "source": [
        "import statistics"
      ],
      "execution_count": 168,
      "outputs": []
    },
    {
      "cell_type": "code",
      "metadata": {
        "id": "KRBTr9CBIvSV"
      },
      "source": [
        "data = [59.19, 72.05, 66.82, 81.15, 66.33, 94.87, 99.65, 70.13, 55.75, 87.71,\n",
        "        95.43, 93.17, 98.54, 68.31, 59.24, 88.94, 79.44, 83.91, 84.4, 68.21]"
      ],
      "execution_count": 169,
      "outputs": []
    },
    {
      "cell_type": "code",
      "metadata": {
        "id": "ATkoXWdtI0j9",
        "outputId": "0d2ba91d-09f6-4e4f-bc18-6e3ca15e7453",
        "colab": {
          "base_uri": "https://localhost:8080/"
        }
      },
      "source": [
        "print(round(statistics.mean(data), 2))\n",
        "print(round(statistics.harmonic_mean(data), 2))\n",
        "print(round(statistics.median(data), 2))"
      ],
      "execution_count": 171,
      "outputs": [
        {
          "output_type": "stream",
          "name": "stdout",
          "text": [
            "78.66\n",
            "76.2\n",
            "80.3\n"
          ]
        }
      ]
    },
    {
      "cell_type": "code",
      "metadata": {
        "id": "vmKkFn7HI1Id"
      },
      "source": [
        "import numbers"
      ],
      "execution_count": 172,
      "outputs": []
    },
    {
      "cell_type": "code",
      "metadata": {
        "id": "nOHO8obzJHZP"
      },
      "source": [
        "class Phone:\n",
        "    \n",
        "    def __init__(self, price):\n",
        "        if isinstance(price, numbers.Number) and price > 0:\n",
        "            self.price = price\n",
        "        else:\n",
        "            raise TypeError('Parameter \\'value\\' must be a positive number.')"
      ],
      "execution_count": 173,
      "outputs": []
    },
    {
      "cell_type": "code",
      "metadata": {
        "id": "lmE_rK7pJQt8"
      },
      "source": [
        "import decimal"
      ],
      "execution_count": 174,
      "outputs": []
    },
    {
      "cell_type": "code",
      "metadata": {
        "id": "rq0a3vnaJWNp",
        "outputId": "b7320c76-f14a-4f92-9e4f-fdf3e714d759",
        "colab": {
          "base_uri": "https://localhost:8080/"
        }
      },
      "source": [
        "result = decimal.Decimal(0.1) + decimal.Decimal(0.2)\n",
        "print(result)"
      ],
      "execution_count": 175,
      "outputs": [
        {
          "output_type": "stream",
          "name": "stdout",
          "text": [
            "0.3000000000000000166533453694\n"
          ]
        }
      ]
    },
    {
      "cell_type": "code",
      "metadata": {
        "id": "m7JDuQrlJZlF",
        "outputId": "8a90a691-d7a3-41c7-f1e5-cf5cbaf419d6",
        "colab": {
          "base_uri": "https://localhost:8080/"
        }
      },
      "source": [
        "decimal.getcontext().prec = 40\n",
        "result = decimal.Decimal(0.1) + decimal.Decimal(0.2)\n",
        "print(result)"
      ],
      "execution_count": 176,
      "outputs": [
        {
          "output_type": "stream",
          "name": "stdout",
          "text": [
            "0.3000000000000000166533453693773481063545\n"
          ]
        }
      ]
    },
    {
      "cell_type": "code",
      "metadata": {
        "id": "eWoUU6lvJhtF",
        "outputId": "9295df13-5a67-4451-9d15-e9de7befb591",
        "colab": {
          "base_uri": "https://localhost:8080/"
        }
      },
      "source": [
        "with decimal.localcontext() as ctx:\n",
        "    ctx.prec = 40\n",
        "    result = decimal.Decimal(0.1) + decimal.Decimal(0.2)\n",
        "    print(result)\n",
        "    \n",
        "result = decimal.Decimal(0.1) + decimal.Decimal(0.2)\n",
        "print(result)"
      ],
      "execution_count": 177,
      "outputs": [
        {
          "output_type": "stream",
          "name": "stdout",
          "text": [
            "0.3000000000000000166533453693773481063545\n",
            "0.3000000000000000166533453693773481063545\n"
          ]
        }
      ]
    },
    {
      "cell_type": "code",
      "metadata": {
        "id": "udMDL6bvJpUl"
      },
      "source": [
        "import itertools"
      ],
      "execution_count": 178,
      "outputs": []
    },
    {
      "cell_type": "code",
      "metadata": {
        "id": "OHQfzKOeJ4Rt",
        "outputId": "656553d0-9ed2-4778-e7e5-953df017d876",
        "colab": {
          "base_uri": "https://localhost:8080/"
        }
      },
      "source": [
        "counter = itertools.count()\n",
        "for i in counter:\n",
        "    if i > 9:\n",
        "        break\n",
        "    print(i)"
      ],
      "execution_count": 179,
      "outputs": [
        {
          "output_type": "stream",
          "name": "stdout",
          "text": [
            "0\n",
            "1\n",
            "2\n",
            "3\n",
            "4\n",
            "5\n",
            "6\n",
            "7\n",
            "8\n",
            "9\n"
          ]
        }
      ]
    },
    {
      "cell_type": "code",
      "metadata": {
        "id": "r03L6guDJ7t0",
        "outputId": "d3be658c-84ec-47a9-9b5b-90f7fbbebebb",
        "colab": {
          "base_uri": "https://localhost:8080/"
        }
      },
      "source": [
        "counter = itertools.count(start=1, step=2)\n",
        "for i in counter:\n",
        "    if i > 9:\n",
        "        break\n",
        "    print(i)"
      ],
      "execution_count": 180,
      "outputs": [
        {
          "output_type": "stream",
          "name": "stdout",
          "text": [
            "1\n",
            "3\n",
            "5\n",
            "7\n",
            "9\n"
          ]
        }
      ]
    },
    {
      "cell_type": "code",
      "metadata": {
        "id": "ucTmxYE-KCTc",
        "outputId": "67f600d4-ef99-4213-c2a7-ecd8d7c65eac",
        "colab": {
          "base_uri": "https://localhost:8080/"
        }
      },
      "source": [
        "cycle = itertools.cycle([-1, 0, 1])\n",
        "results = [next(cycle) for _ in range(15)]\n",
        "for result in results:\n",
        "    print(result)"
      ],
      "execution_count": 181,
      "outputs": [
        {
          "output_type": "stream",
          "name": "stdout",
          "text": [
            "-1\n",
            "0\n",
            "1\n",
            "-1\n",
            "0\n",
            "1\n",
            "-1\n",
            "0\n",
            "1\n",
            "-1\n",
            "0\n",
            "1\n",
            "-1\n",
            "0\n",
            "1\n"
          ]
        }
      ]
    },
    {
      "cell_type": "code",
      "metadata": {
        "id": "7zyVfI4FKH1c",
        "outputId": "45c19295-06d7-43ae-a026-ea5b59c2c450",
        "colab": {
          "base_uri": "https://localhost:8080/"
        }
      },
      "source": [
        "repeat = itertools.repeat('#')\n",
        "results = [next(repeat) for _ in range(10)]\n",
        "for result in results:\n",
        "    print(result)"
      ],
      "execution_count": 182,
      "outputs": [
        {
          "output_type": "stream",
          "name": "stdout",
          "text": [
            "#\n",
            "#\n",
            "#\n",
            "#\n",
            "#\n",
            "#\n",
            "#\n",
            "#\n",
            "#\n",
            "#\n"
          ]
        }
      ]
    },
    {
      "cell_type": "code",
      "metadata": {
        "id": "vLXm-PDDKLaM",
        "outputId": "1fbcbe57-4da8-433a-90bd-31d920c99f9d",
        "colab": {
          "base_uri": "https://localhost:8080/"
        }
      },
      "source": [
        "orgs = ['Apple', 'Microsoft', 'Amazon', 'Google', 'Adidas', 'Audi', 'Siemens']\n",
        " \n",
        "results = itertools.combinations(orgs, 2)\n",
        "for result in results:\n",
        "    print(result)"
      ],
      "execution_count": 183,
      "outputs": [
        {
          "output_type": "stream",
          "name": "stdout",
          "text": [
            "('Apple', 'Microsoft')\n",
            "('Apple', 'Amazon')\n",
            "('Apple', 'Google')\n",
            "('Apple', 'Adidas')\n",
            "('Apple', 'Audi')\n",
            "('Apple', 'Siemens')\n",
            "('Microsoft', 'Amazon')\n",
            "('Microsoft', 'Google')\n",
            "('Microsoft', 'Adidas')\n",
            "('Microsoft', 'Audi')\n",
            "('Microsoft', 'Siemens')\n",
            "('Amazon', 'Google')\n",
            "('Amazon', 'Adidas')\n",
            "('Amazon', 'Audi')\n",
            "('Amazon', 'Siemens')\n",
            "('Google', 'Adidas')\n",
            "('Google', 'Audi')\n",
            "('Google', 'Siemens')\n",
            "('Adidas', 'Audi')\n",
            "('Adidas', 'Siemens')\n",
            "('Audi', 'Siemens')\n"
          ]
        }
      ]
    },
    {
      "cell_type": "code",
      "metadata": {
        "id": "3uyxHQKeKVEU",
        "outputId": "6a3eb338-beea-4a1b-f03b-f4a45cb76a49",
        "colab": {
          "base_uri": "https://localhost:8080/"
        }
      },
      "source": [
        "results = itertools.combinations(orgs, 3)\n",
        "for result in results:\n",
        "    print(result)"
      ],
      "execution_count": 184,
      "outputs": [
        {
          "output_type": "stream",
          "name": "stdout",
          "text": [
            "('Apple', 'Microsoft', 'Amazon')\n",
            "('Apple', 'Microsoft', 'Google')\n",
            "('Apple', 'Microsoft', 'Adidas')\n",
            "('Apple', 'Microsoft', 'Audi')\n",
            "('Apple', 'Microsoft', 'Siemens')\n",
            "('Apple', 'Amazon', 'Google')\n",
            "('Apple', 'Amazon', 'Adidas')\n",
            "('Apple', 'Amazon', 'Audi')\n",
            "('Apple', 'Amazon', 'Siemens')\n",
            "('Apple', 'Google', 'Adidas')\n",
            "('Apple', 'Google', 'Audi')\n",
            "('Apple', 'Google', 'Siemens')\n",
            "('Apple', 'Adidas', 'Audi')\n",
            "('Apple', 'Adidas', 'Siemens')\n",
            "('Apple', 'Audi', 'Siemens')\n",
            "('Microsoft', 'Amazon', 'Google')\n",
            "('Microsoft', 'Amazon', 'Adidas')\n",
            "('Microsoft', 'Amazon', 'Audi')\n",
            "('Microsoft', 'Amazon', 'Siemens')\n",
            "('Microsoft', 'Google', 'Adidas')\n",
            "('Microsoft', 'Google', 'Audi')\n",
            "('Microsoft', 'Google', 'Siemens')\n",
            "('Microsoft', 'Adidas', 'Audi')\n",
            "('Microsoft', 'Adidas', 'Siemens')\n",
            "('Microsoft', 'Audi', 'Siemens')\n",
            "('Amazon', 'Google', 'Adidas')\n",
            "('Amazon', 'Google', 'Audi')\n",
            "('Amazon', 'Google', 'Siemens')\n",
            "('Amazon', 'Adidas', 'Audi')\n",
            "('Amazon', 'Adidas', 'Siemens')\n",
            "('Amazon', 'Audi', 'Siemens')\n",
            "('Google', 'Adidas', 'Audi')\n",
            "('Google', 'Adidas', 'Siemens')\n",
            "('Google', 'Audi', 'Siemens')\n",
            "('Adidas', 'Audi', 'Siemens')\n"
          ]
        }
      ]
    },
    {
      "cell_type": "code",
      "metadata": {
        "id": "zCLhwgohKad1",
        "outputId": "75147016-4f16-4d90-9752-eef2dd4a86fd",
        "colab": {
          "base_uri": "https://localhost:8080/"
        }
      },
      "source": [
        "results = itertools.combinations_with_replacement(orgs, 2)\n",
        "for result in results:\n",
        "    print(result)"
      ],
      "execution_count": 185,
      "outputs": [
        {
          "output_type": "stream",
          "name": "stdout",
          "text": [
            "('Apple', 'Apple')\n",
            "('Apple', 'Microsoft')\n",
            "('Apple', 'Amazon')\n",
            "('Apple', 'Google')\n",
            "('Apple', 'Adidas')\n",
            "('Apple', 'Audi')\n",
            "('Apple', 'Siemens')\n",
            "('Microsoft', 'Microsoft')\n",
            "('Microsoft', 'Amazon')\n",
            "('Microsoft', 'Google')\n",
            "('Microsoft', 'Adidas')\n",
            "('Microsoft', 'Audi')\n",
            "('Microsoft', 'Siemens')\n",
            "('Amazon', 'Amazon')\n",
            "('Amazon', 'Google')\n",
            "('Amazon', 'Adidas')\n",
            "('Amazon', 'Audi')\n",
            "('Amazon', 'Siemens')\n",
            "('Google', 'Google')\n",
            "('Google', 'Adidas')\n",
            "('Google', 'Audi')\n",
            "('Google', 'Siemens')\n",
            "('Adidas', 'Adidas')\n",
            "('Adidas', 'Audi')\n",
            "('Adidas', 'Siemens')\n",
            "('Audi', 'Audi')\n",
            "('Audi', 'Siemens')\n",
            "('Siemens', 'Siemens')\n"
          ]
        }
      ]
    },
    {
      "cell_type": "code",
      "metadata": {
        "id": "tykCeJX9Kg71",
        "outputId": "0749fdc1-067d-485e-95ce-39beb3791726",
        "colab": {
          "base_uri": "https://localhost:8080/"
        }
      },
      "source": [
        "names = ['Bob', 'Mark', 'Guido']\n",
        "results = itertools.permutations(names)\n",
        " \n",
        "for result in results:\n",
        "    print(result)"
      ],
      "execution_count": 186,
      "outputs": [
        {
          "output_type": "stream",
          "name": "stdout",
          "text": [
            "('Bob', 'Mark', 'Guido')\n",
            "('Bob', 'Guido', 'Mark')\n",
            "('Mark', 'Bob', 'Guido')\n",
            "('Mark', 'Guido', 'Bob')\n",
            "('Guido', 'Bob', 'Mark')\n",
            "('Guido', 'Mark', 'Bob')\n"
          ]
        }
      ]
    },
    {
      "cell_type": "code",
      "metadata": {
        "id": "nVDjBWxFKlgV",
        "outputId": "aed1b8df-4615-4026-b45b-546a84393f20",
        "colab": {
          "base_uri": "https://localhost:8080/"
        }
      },
      "source": [
        "letters = list('ABCDEFGH')\n",
        "numbers = [str(i) for i in range(1, 9)]\n",
        "chessboard = itertools.product(letters, numbers)\n",
        "chessboard = [''.join(fields) for fields in chessboard]\n",
        "print(chessboard)"
      ],
      "execution_count": 187,
      "outputs": [
        {
          "output_type": "stream",
          "name": "stdout",
          "text": [
            "['A1', 'A2', 'A3', 'A4', 'A5', 'A6', 'A7', 'A8', 'B1', 'B2', 'B3', 'B4', 'B5', 'B6', 'B7', 'B8', 'C1', 'C2', 'C3', 'C4', 'C5', 'C6', 'C7', 'C8', 'D1', 'D2', 'D3', 'D4', 'D5', 'D6', 'D7', 'D8', 'E1', 'E2', 'E3', 'E4', 'E5', 'E6', 'E7', 'E8', 'F1', 'F2', 'F3', 'F4', 'F5', 'F6', 'F7', 'F8', 'G1', 'G2', 'G3', 'G4', 'G5', 'G6', 'G7', 'G8', 'H1', 'H2', 'H3', 'H4', 'H5', 'H6', 'H7', 'H8']\n"
          ]
        }
      ]
    },
    {
      "cell_type": "code",
      "metadata": {
        "id": "dRlYmqVtKqkM",
        "outputId": "b62f4865-8b7a-496c-c91d-6a34e9edfda8",
        "colab": {
          "base_uri": "https://localhost:8080/"
        }
      },
      "source": [
        "tesla = {\n",
        "    'Close': {0: 1499.11,\n",
        "           1: 1476.49,\n",
        "           2: 1539.6,\n",
        "           3: 1417.0,\n",
        "           4: 1513.07,\n",
        "           5: 1592.33,\n",
        "           6: 1568.36,\n",
        "           7: 1643.0,\n",
        "           8: 1500.84,\n",
        "           9: 1500.64},\n",
        "    'Date': {0: '2020-07-29',\n",
        "          1: '2020-07-28',\n",
        "          2: '2020-07-27',\n",
        "          3: '2020-07-24',\n",
        "          4: '2020-07-23',\n",
        "          5: '2020-07-22',\n",
        "          6: '2020-07-21',\n",
        "          7: '2020-07-20',\n",
        "          8: '2020-07-17',\n",
        "          9: '2020-07-16'},\n",
        "    'Volume': {0: 9426893,\n",
        "            1: 15808700,\n",
        "            2: 16048669,\n",
        "            3: 19396616,\n",
        "            4: 24328504,\n",
        "            5: 14161080,\n",
        "            6: 16157280,\n",
        "            7: 17121367,\n",
        "            8: 9329972,\n",
        "            9: 14300785}\n",
        "    }\n",
        " \n",
        "results = itertools.accumulate(tesla['Volume'].values())\n",
        "for result in results:\n",
        "    print(result)"
      ],
      "execution_count": 188,
      "outputs": [
        {
          "output_type": "stream",
          "name": "stdout",
          "text": [
            "9426893\n",
            "25235593\n",
            "41284262\n",
            "60680878\n",
            "85009382\n",
            "99170462\n",
            "115327742\n",
            "132449109\n",
            "141779081\n",
            "156079866\n"
          ]
        }
      ]
    },
    {
      "cell_type": "code",
      "metadata": {
        "id": "lQUGgNQvKysV",
        "outputId": "465df8d9-1e22-4ebc-d786-d3510e7b7242",
        "colab": {
          "base_uri": "https://localhost:8080/"
        }
      },
      "source": [
        "results = itertools.accumulate(tesla['Close'].values(), min)\n",
        "for result in results:\n",
        "    print(result)"
      ],
      "execution_count": 189,
      "outputs": [
        {
          "output_type": "stream",
          "name": "stdout",
          "text": [
            "1499.11\n",
            "1476.49\n",
            "1476.49\n",
            "1417.0\n",
            "1417.0\n",
            "1417.0\n",
            "1417.0\n",
            "1417.0\n",
            "1417.0\n",
            "1417.0\n"
          ]
        }
      ]
    },
    {
      "cell_type": "code",
      "metadata": {
        "id": "FFH0ky9CK5RF",
        "outputId": "4792ab92-4bf3-46a6-83c0-ac1461593387",
        "colab": {
          "base_uri": "https://localhost:8080/"
        }
      },
      "source": [
        "results = itertools.accumulate(tesla['Close'].values(), lambda x, y: (x + y) / 2)\n",
        "for result in results:\n",
        "    print(result)"
      ],
      "execution_count": 190,
      "outputs": [
        {
          "output_type": "stream",
          "name": "stdout",
          "text": [
            "1499.11\n",
            "1487.8\n",
            "1513.6999999999998\n",
            "1465.35\n",
            "1489.21\n",
            "1540.77\n",
            "1554.565\n",
            "1598.7825\n",
            "1549.81125\n",
            "1525.225625\n"
          ]
        }
      ]
    },
    {
      "cell_type": "code",
      "metadata": {
        "id": "aCUt0KwmK83F",
        "outputId": "6d0d0700-fa2a-410b-aae4-d90e01e1e035",
        "colab": {
          "base_uri": "https://localhost:8080/"
        }
      },
      "source": [
        "tesla = {\n",
        "    'Close': {0: 1499.11,\n",
        "           1: 1476.49,\n",
        "           2: 1539.6,\n",
        "           3: 1417.0,\n",
        "           4: 1513.07,\n",
        "           5: 1592.33,\n",
        "           6: 1568.36,\n",
        "           7: 1643.0,\n",
        "           8: 1500.84,\n",
        "           9: 1500.64},\n",
        "    'Date': {0: '2020-07-29',\n",
        "          1: '2020-07-28',\n",
        "          2: '2020-07-27',\n",
        "          3: '2020-07-24',\n",
        "          4: '2020-07-23',\n",
        "          5: '2020-07-22',\n",
        "          6: '2020-07-21',\n",
        "          7: '2020-07-20',\n",
        "          8: '2020-07-17',\n",
        "          9: '2020-07-16'},\n",
        "    'Volume': {0: 9426893,\n",
        "            1: 15808700,\n",
        "            2: 16048669,\n",
        "            3: 19396616,\n",
        "            4: 24328504,\n",
        "            5: 14161080,\n",
        "            6: 16157280,\n",
        "            7: 17121367,\n",
        "            8: 9329972,\n",
        "            9: 14300785}\n",
        "    }\n",
        " \n",
        "results = itertools.islice(tesla['Date'].values(), 0, None, 2)\n",
        "for result in results:\n",
        "    print(result)"
      ],
      "execution_count": 191,
      "outputs": [
        {
          "output_type": "stream",
          "name": "stdout",
          "text": [
            "2020-07-29\n",
            "2020-07-27\n",
            "2020-07-23\n",
            "2020-07-21\n",
            "2020-07-17\n"
          ]
        }
      ]
    },
    {
      "cell_type": "code",
      "metadata": {
        "id": "Jt-3U3jbLJqt",
        "outputId": "88f2864d-93a7-46f6-c28d-a79dbd8d6225",
        "colab": {
          "base_uri": "https://localhost:8080/"
        }
      },
      "source": [
        "results = itertools.islice(string.ascii_lowercase, 0, None)\n",
        "print(list(results))"
      ],
      "execution_count": 192,
      "outputs": [
        {
          "output_type": "stream",
          "name": "stdout",
          "text": [
            "['a', 'b', 'c', 'd', 'e', 'f', 'g', 'h', 'i', 'j', 'k', 'l', 'm', 'n', 'o', 'p', 'q', 'r', 's', 't', 'u', 'v', 'w', 'x', 'y', 'z']\n"
          ]
        }
      ]
    },
    {
      "cell_type": "code",
      "metadata": {
        "id": "HglHwQVdLQgV",
        "outputId": "e29f0dee-1bba-4bae-de10-abbec2179c27",
        "colab": {
          "base_uri": "https://localhost:8080/"
        }
      },
      "source": [
        "data = [1, 5, 3, 4, 6, 9, 3]\n",
        " \n",
        "grouped_data = itertools.groupby(data, key=lambda x: 'even' if x % 2 == 0 else 'odd')\n",
        " \n",
        "for key, group in grouped_data:\n",
        "    print(f'{key} -> {list(group)}')"
      ],
      "execution_count": 193,
      "outputs": [
        {
          "output_type": "stream",
          "name": "stdout",
          "text": [
            "odd -> [1, 5, 3]\n",
            "even -> [4, 6]\n",
            "odd -> [9, 3]\n"
          ]
        }
      ]
    },
    {
      "cell_type": "code",
      "metadata": {
        "id": "vVSLFQVQLsYt"
      },
      "source": [
        "import pickle"
      ],
      "execution_count": 195,
      "outputs": []
    },
    {
      "cell_type": "code",
      "metadata": {
        "id": "q9BHPa1EL5Cl"
      },
      "source": [
        "import zipfile"
      ],
      "execution_count": 196,
      "outputs": []
    },
    {
      "cell_type": "code",
      "metadata": {
        "id": "y9i1lHn7Mdd9"
      },
      "source": [
        "import csv"
      ],
      "execution_count": 197,
      "outputs": []
    },
    {
      "cell_type": "code",
      "metadata": {
        "id": "ofvagZgEMotD"
      },
      "source": [
        "import json"
      ],
      "execution_count": 198,
      "outputs": []
    },
    {
      "cell_type": "code",
      "metadata": {
        "id": "RQKXRL4QMwnu",
        "outputId": "93d470eb-473a-4940-f7bd-20097134e012",
        "colab": {
          "base_uri": "https://localhost:8080/"
        }
      },
      "source": [
        "employees_json = \"\"\"\n",
        "{\"IT\": [{\"employee_id\": \"0010\", \"stack\": [\"Python\", \"Java\", \"AWS\", \"Docker\", \"Linux\"], \"experience\": 5},\n",
        "{\"employee_id\": \"0360\", \"stack\": [\"Python\", \"AWS\", \"Docker\", \"Linux\", \"Azure\"], \"experience\": 6},\n",
        "{\"employee_id\": \"0323\", \"stack\": [\"Python\", \"AWS\", \"JavaScript\"]}],\n",
        "\"Marketing\": [{\"employee_id\": \"0863\", \"stack\": [\"Google Analytics\", \"Google Ads\", \"Facebook Ads\"]},\n",
        "{\"employee_id\": \"0543\", \"stack\": [\"Google Ads\", \"Facebook Ads\"]}]}\n",
        "\"\"\"\n",
        " \n",
        "employees = json.loads(employees_json)\n",
        "print(employees)"
      ],
      "execution_count": 199,
      "outputs": [
        {
          "output_type": "stream",
          "name": "stdout",
          "text": [
            "{'IT': [{'employee_id': '0010', 'stack': ['Python', 'Java', 'AWS', 'Docker', 'Linux'], 'experience': 5}, {'employee_id': '0360', 'stack': ['Python', 'AWS', 'Docker', 'Linux', 'Azure'], 'experience': 6}, {'employee_id': '0323', 'stack': ['Python', 'AWS', 'JavaScript']}], 'Marketing': [{'employee_id': '0863', 'stack': ['Google Analytics', 'Google Ads', 'Facebook Ads']}, {'employee_id': '0543', 'stack': ['Google Ads', 'Facebook Ads']}]}\n"
          ]
        }
      ]
    },
    {
      "cell_type": "code",
      "metadata": {
        "id": "1YDsCfbsM0bl",
        "outputId": "c4581019-9cf3-4ef4-d43b-6795de5ba3c0",
        "colab": {
          "base_uri": "https://localhost:8080/"
        }
      },
      "source": [
        "employees = json.loads(employees_json)\n",
        "pprint(employees)"
      ],
      "execution_count": 200,
      "outputs": [
        {
          "output_type": "stream",
          "name": "stdout",
          "text": [
            "{'IT': [{'employee_id': '0010',\n",
            "         'experience': 5,\n",
            "         'stack': ['Python', 'Java', 'AWS', 'Docker', 'Linux']},\n",
            "        {'employee_id': '0360',\n",
            "         'experience': 6,\n",
            "         'stack': ['Python', 'AWS', 'Docker', 'Linux', 'Azure']},\n",
            "        {'employee_id': '0323', 'stack': ['Python', 'AWS', 'JavaScript']}],\n",
            " 'Marketing': [{'employee_id': '0863',\n",
            "                'stack': ['Google Analytics', 'Google Ads', 'Facebook Ads']},\n",
            "               {'employee_id': '0543',\n",
            "                'stack': ['Google Ads', 'Facebook Ads']}]}\n"
          ]
        }
      ]
    },
    {
      "cell_type": "code",
      "metadata": {
        "id": "cxYBabZ2M7kN",
        "outputId": "e2dfa1a4-46d4-433d-a49f-b8a76f0ddd52",
        "colab": {
          "base_uri": "https://localhost:8080/"
        }
      },
      "source": [
        "employees = {'IT': [{'employee_id': '0010',\n",
        "   'stack': ['Python', 'Java', 'AWS', 'Docker', 'Linux'],\n",
        "   'experience': 5},\n",
        "  {'employee_id': '0360',\n",
        "   'stack': ['Python', 'AWS', 'Docker', 'Linux', 'Azure'],\n",
        "   'experience': 6},\n",
        "  {'employee_id': '0323', 'stack': ['Python', 'AWS', 'JavaScript']}],\n",
        " 'Marketing': [{'employee_id': '0863',\n",
        "   'stack': ['Google Analytics', 'Google Ads', 'Facebook Ads']},\n",
        "  {'employee_id': '0543', 'stack': ['Google Ads', 'Facebook Ads']}]}\n",
        " \n",
        "employees_json = json.dumps(employees, indent=4, sort_keys=True)\n",
        "print(employees_json)"
      ],
      "execution_count": 201,
      "outputs": [
        {
          "output_type": "stream",
          "name": "stdout",
          "text": [
            "{\n",
            "    \"IT\": [\n",
            "        {\n",
            "            \"employee_id\": \"0010\",\n",
            "            \"experience\": 5,\n",
            "            \"stack\": [\n",
            "                \"Python\",\n",
            "                \"Java\",\n",
            "                \"AWS\",\n",
            "                \"Docker\",\n",
            "                \"Linux\"\n",
            "            ]\n",
            "        },\n",
            "        {\n",
            "            \"employee_id\": \"0360\",\n",
            "            \"experience\": 6,\n",
            "            \"stack\": [\n",
            "                \"Python\",\n",
            "                \"AWS\",\n",
            "                \"Docker\",\n",
            "                \"Linux\",\n",
            "                \"Azure\"\n",
            "            ]\n",
            "        },\n",
            "        {\n",
            "            \"employee_id\": \"0323\",\n",
            "            \"stack\": [\n",
            "                \"Python\",\n",
            "                \"AWS\",\n",
            "                \"JavaScript\"\n",
            "            ]\n",
            "        }\n",
            "    ],\n",
            "    \"Marketing\": [\n",
            "        {\n",
            "            \"employee_id\": \"0863\",\n",
            "            \"stack\": [\n",
            "                \"Google Analytics\",\n",
            "                \"Google Ads\",\n",
            "                \"Facebook Ads\"\n",
            "            ]\n",
            "        },\n",
            "        {\n",
            "            \"employee_id\": \"0543\",\n",
            "            \"stack\": [\n",
            "                \"Google Ads\",\n",
            "                \"Facebook Ads\"\n",
            "            ]\n",
            "        }\n",
            "    ]\n",
            "}\n"
          ]
        }
      ]
    },
    {
      "cell_type": "code",
      "metadata": {
        "id": "2Zl2id1BNJvm"
      },
      "source": [
        "import xml.etree.ElementTree as ET"
      ],
      "execution_count": 203,
      "outputs": []
    },
    {
      "cell_type": "code",
      "metadata": {
        "id": "WIYjlLPPNOjF"
      },
      "source": [
        "# tree = ET.parse('books.xml')\n",
        "# root = tree.getroot()\n",
        "# print(ET.tostring(root, encoding='utf-8').decode('utf-8'))"
      ],
      "execution_count": 205,
      "outputs": []
    },
    {
      "cell_type": "code",
      "metadata": {
        "id": "VO9kXZUwNUjH",
        "outputId": "8cd1f4e1-c6f0-4ed4-b11f-65e824aafc04",
        "colab": {
          "base_uri": "https://localhost:8080/"
        }
      },
      "source": [
        "import urllib.request\n",
        " \n",
        " \n",
        "with urllib.request.urlopen('http://python.org') as response:\n",
        "    html = response.read().decode('utf-8')\n",
        "    \n",
        "print(html[:96])"
      ],
      "execution_count": 206,
      "outputs": [
        {
          "output_type": "stream",
          "name": "stdout",
          "text": [
            "<!doctype html>\n",
            "<!--[if lt IE 7]>   <html class=\"no-js ie6 lt-ie7 lt-ie8 lt-ie9\">   <![endif]-->\n"
          ]
        }
      ]
    },
    {
      "cell_type": "code",
      "metadata": {
        "id": "uLgocqDTPitj"
      },
      "source": [
        "from urllib.request import urlopen"
      ],
      "execution_count": 208,
      "outputs": []
    },
    {
      "cell_type": "code",
      "metadata": {
        "id": "nhRRTr9hPUxV",
        "outputId": "dc7fa841-ec87-45b8-be12-23a182317ff2",
        "colab": {
          "base_uri": "https://localhost:8080/"
        }
      },
      "source": [
        "with urlopen('http://python.org') as response:\n",
        "    html = response.read().decode('utf-8')\n",
        "    lines = [line.strip() for line in html.splitlines() if line][:5]\n",
        " \n",
        "for line in lines:\n",
        "    print(line)"
      ],
      "execution_count": 209,
      "outputs": [
        {
          "output_type": "stream",
          "name": "stdout",
          "text": [
            "<!doctype html>\n",
            "<!--[if lt IE 7]>   <html class=\"no-js ie6 lt-ie7 lt-ie8 lt-ie9\">   <![endif]-->\n",
            "<!--[if IE 7]>      <html class=\"no-js ie7 lt-ie8 lt-ie9\">          <![endif]-->\n",
            "<!--[if IE 8]>      <html class=\"no-js ie8 lt-ie9\">                 <![endif]-->\n",
            "<!--[if gt IE 8]><!--><html class=\"no-js\" lang=\"en\" dir=\"ltr\">  <!--<![endif]-->\n"
          ]
        }
      ]
    },
    {
      "cell_type": "code",
      "metadata": {
        "id": "BGwajlwAPcy2"
      },
      "source": [
        "from timeit import timeit"
      ],
      "execution_count": 210,
      "outputs": []
    },
    {
      "cell_type": "code",
      "metadata": {
        "id": "JXWId9HFPq4l",
        "outputId": "b31ec0e3-42cb-43ba-8afb-fc69509393f8",
        "colab": {
          "base_uri": "https://localhost:8080/"
        }
      },
      "source": [
        "code = \"\"\"\n",
        "numbers = []\n",
        "for i in range(10):\n",
        "    numbers.append(i)\n",
        "\"\"\"\n",
        " \n",
        "print(timeit(code, number=10000000)) # number of repetitions"
      ],
      "execution_count": 216,
      "outputs": [
        {
          "output_type": "stream",
          "name": "stdout",
          "text": [
            "11.30114345400034\n"
          ]
        }
      ]
    },
    {
      "cell_type": "code",
      "metadata": {
        "id": "9Emz0DUBPv_W",
        "outputId": "27982e0d-ac48-40ec-ae68-3fe697d8d242",
        "colab": {
          "base_uri": "https://localhost:8080/"
        }
      },
      "source": [
        "code1 = \"\"\"\n",
        "numbers = []\n",
        "for i in range(10):\n",
        "    numbers.append(i)\n",
        "\"\"\"\n",
        " \n",
        "code2 = \"\"\"\n",
        "numbers = [i for i in range(10)]\n",
        "\"\"\"\n",
        " \n",
        "t1 = timeit(code1, number=1000000)\n",
        "t2 = timeit(code2, number=1000000)\n",
        " \n",
        "results = {'code1': t1, 'code2': t2}\n",
        "result = sorted(results.items(), key=lambda x: x[1])[0][0]\n",
        "print(result)"
      ],
      "execution_count": 217,
      "outputs": [
        {
          "output_type": "stream",
          "name": "stdout",
          "text": [
            "code2\n"
          ]
        }
      ]
    },
    {
      "cell_type": "code",
      "metadata": {
        "id": "vo0SueC6QQoW",
        "outputId": "ec0ca80c-631b-4009-b28e-6c4acf7e0e73",
        "colab": {
          "base_uri": "https://localhost:8080/"
        }
      },
      "source": [
        "import keyword \n",
        "pprint(keyword.kwlist)"
      ],
      "execution_count": 219,
      "outputs": [
        {
          "output_type": "stream",
          "name": "stdout",
          "text": [
            "['False',\n",
            " 'None',\n",
            " 'True',\n",
            " 'and',\n",
            " 'as',\n",
            " 'assert',\n",
            " 'async',\n",
            " 'await',\n",
            " 'break',\n",
            " 'class',\n",
            " 'continue',\n",
            " 'def',\n",
            " 'del',\n",
            " 'elif',\n",
            " 'else',\n",
            " 'except',\n",
            " 'finally',\n",
            " 'for',\n",
            " 'from',\n",
            " 'global',\n",
            " 'if',\n",
            " 'import',\n",
            " 'in',\n",
            " 'is',\n",
            " 'lambda',\n",
            " 'nonlocal',\n",
            " 'not',\n",
            " 'or',\n",
            " 'pass',\n",
            " 'raise',\n",
            " 'return',\n",
            " 'try',\n",
            " 'while',\n",
            " 'with',\n",
            " 'yield']\n"
          ]
        }
      ]
    },
    {
      "cell_type": "code",
      "metadata": {
        "id": "nSsfURVpQdtl"
      },
      "source": [
        ""
      ],
      "execution_count": null,
      "outputs": []
    }
  ]
}